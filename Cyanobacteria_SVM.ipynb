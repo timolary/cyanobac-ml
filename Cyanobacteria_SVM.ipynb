{
 "cells": [
  {
   "cell_type": "code",
   "execution_count": 15,
   "metadata": {},
   "outputs": [],
   "source": [
    "import numpy as np\n",
    "import matplotlib.pyplot as plt\n",
    "import pandas as pd\n",
    "import os \n",
    "%matplotlib inline\n",
    "import sklearn"
   ]
  },
  {
   "cell_type": "markdown",
   "metadata": {},
   "source": [
    "### Current samples times above the threshold"
   ]
  },
  {
   "cell_type": "code",
   "execution_count": 16,
   "metadata": {},
   "outputs": [],
   "source": [
    "ds1 = pd.read_csv('data/AllSites.csv')\n",
    "threshold = np.where(ds1['NP_Cya_bio'] >= 4e8)\n",
    "target = np.zeros(len(ds1['NP_Cya_bio']))\n",
    "target[threshold] = 1\n",
    "ds1['target'] = pd.Series(target)\n",
    "# ds1 = ds1.dropna(axis=0, how='any')\n",
    "ds1 = ds1.dropna(axis=0, subset = ['NP_Cya_bio'])"
   ]
  },
  {
   "cell_type": "code",
   "execution_count": 17,
   "metadata": {},
   "outputs": [
    {
     "data": {
      "text/plain": [
       "20"
      ]
     },
     "execution_count": 17,
     "metadata": {},
     "output_type": "execute_result"
    }
   ],
   "source": [
    "t = np.where(ds1['target'] == 1.0)\n",
    "len(ds1.iloc[t])"
   ]
  },
  {
   "cell_type": "markdown",
   "metadata": {},
   "source": [
    "### Using regex capture groups to clean 'H's' out of data"
   ]
  },
  {
   "cell_type": "code",
   "execution_count": 18,
   "metadata": {},
   "outputs": [
    {
     "name": "stdout",
     "output_type": "stream",
     "text": [
      "6.455345911949686\n",
      "25.48357791754018\n",
      "13.021802935010482\n",
      "12.14577218728162\n",
      "0.40932914046121593\n",
      "16.490076869322152\n",
      "6.869986023759609\n",
      "3.39664570230608\n",
      "44.71051524549778\n",
      "7.165618448637317\n"
     ]
    },
    {
     "data": {
      "text/html": [
       "<div>\n",
       "<style scoped>\n",
       "    .dataframe tbody tr th:only-of-type {\n",
       "        vertical-align: middle;\n",
       "    }\n",
       "\n",
       "    .dataframe tbody tr th {\n",
       "        vertical-align: top;\n",
       "    }\n",
       "\n",
       "    .dataframe thead th {\n",
       "        text-align: right;\n",
       "    }\n",
       "</style>\n",
       "<table border=\"1\" class=\"dataframe\">\n",
       "  <thead>\n",
       "    <tr style=\"text-align: right;\">\n",
       "      <th></th>\n",
       "      <th>Depth</th>\n",
       "      <th>TP</th>\n",
       "      <th>DP</th>\n",
       "      <th>Cl</th>\n",
       "      <th>TN</th>\n",
       "      <th>TempC</th>\n",
       "      <th>Chla</th>\n",
       "      <th>Secchi</th>\n",
       "      <th>N:P</th>\n",
       "      <th>date</th>\n",
       "    </tr>\n",
       "  </thead>\n",
       "  <tbody>\n",
       "    <tr>\n",
       "      <th>0</th>\n",
       "      <td>2.0</td>\n",
       "      <td>39.2</td>\n",
       "      <td>16.2</td>\n",
       "      <td>13.0</td>\n",
       "      <td>0.61</td>\n",
       "      <td>0.0</td>\n",
       "      <td>1.41</td>\n",
       "      <td>0.5</td>\n",
       "      <td>34.410892</td>\n",
       "      <td>4</td>\n",
       "    </tr>\n",
       "    <tr>\n",
       "      <th>1</th>\n",
       "      <td>2.2</td>\n",
       "      <td>36.8</td>\n",
       "      <td>14.8</td>\n",
       "      <td>17.5</td>\n",
       "      <td>0.45</td>\n",
       "      <td>13.7</td>\n",
       "      <td>9.67</td>\n",
       "      <td>1.1</td>\n",
       "      <td>27.040633</td>\n",
       "      <td>5</td>\n",
       "    </tr>\n",
       "    <tr>\n",
       "      <th>2</th>\n",
       "      <td>2.0</td>\n",
       "      <td>50.1</td>\n",
       "      <td>27.4</td>\n",
       "      <td>12.1</td>\n",
       "      <td>0.55</td>\n",
       "      <td>14.5</td>\n",
       "      <td>2.04</td>\n",
       "      <td>0.7</td>\n",
       "      <td>24.276000</td>\n",
       "      <td>5</td>\n",
       "    </tr>\n",
       "    <tr>\n",
       "      <th>4</th>\n",
       "      <td>2.0</td>\n",
       "      <td>59.6</td>\n",
       "      <td>32.6</td>\n",
       "      <td>12.0</td>\n",
       "      <td>0.65</td>\n",
       "      <td>17.7</td>\n",
       "      <td>4.13</td>\n",
       "      <td>0.6</td>\n",
       "      <td>24.116777</td>\n",
       "      <td>6</td>\n",
       "    </tr>\n",
       "    <tr>\n",
       "      <th>5</th>\n",
       "      <td>1.2</td>\n",
       "      <td>77.3</td>\n",
       "      <td>47.9</td>\n",
       "      <td>10.5</td>\n",
       "      <td>0.62</td>\n",
       "      <td>22.5</td>\n",
       "      <td>1.74</td>\n",
       "      <td>0.6</td>\n",
       "      <td>17.736355</td>\n",
       "      <td>6</td>\n",
       "    </tr>\n",
       "    <tr>\n",
       "      <th>...</th>\n",
       "      <td>...</td>\n",
       "      <td>...</td>\n",
       "      <td>...</td>\n",
       "      <td>...</td>\n",
       "      <td>...</td>\n",
       "      <td>...</td>\n",
       "      <td>...</td>\n",
       "      <td>...</td>\n",
       "      <td>...</td>\n",
       "      <td>...</td>\n",
       "    </tr>\n",
       "    <tr>\n",
       "      <th>3629</th>\n",
       "      <td>2.2</td>\n",
       "      <td>53.4</td>\n",
       "      <td>16.8</td>\n",
       "      <td>8.0</td>\n",
       "      <td>0.69</td>\n",
       "      <td>25.6</td>\n",
       "      <td>27.50</td>\n",
       "      <td>1.1</td>\n",
       "      <td>28.573274</td>\n",
       "      <td>8</td>\n",
       "    </tr>\n",
       "    <tr>\n",
       "      <th>3631</th>\n",
       "      <td>2.0</td>\n",
       "      <td>83.4</td>\n",
       "      <td>33.9</td>\n",
       "      <td>8.3</td>\n",
       "      <td>0.71</td>\n",
       "      <td>23.7</td>\n",
       "      <td>23.94</td>\n",
       "      <td>1.0</td>\n",
       "      <td>18.825411</td>\n",
       "      <td>9</td>\n",
       "    </tr>\n",
       "    <tr>\n",
       "      <th>3632</th>\n",
       "      <td>2.0</td>\n",
       "      <td>94.2</td>\n",
       "      <td>40.7</td>\n",
       "      <td>8.7</td>\n",
       "      <td>0.90</td>\n",
       "      <td>22.3</td>\n",
       "      <td>50.16</td>\n",
       "      <td>1.0</td>\n",
       "      <td>21.127289</td>\n",
       "      <td>9</td>\n",
       "    </tr>\n",
       "    <tr>\n",
       "      <th>3634</th>\n",
       "      <td>2.8</td>\n",
       "      <td>68.8</td>\n",
       "      <td>42.6</td>\n",
       "      <td>9.6</td>\n",
       "      <td>0.74</td>\n",
       "      <td>13.4</td>\n",
       "      <td>10.22</td>\n",
       "      <td>1.4</td>\n",
       "      <td>23.784578</td>\n",
       "      <td>10</td>\n",
       "    </tr>\n",
       "    <tr>\n",
       "      <th>3636</th>\n",
       "      <td>2.6</td>\n",
       "      <td>79.4</td>\n",
       "      <td>49.7</td>\n",
       "      <td>9.2</td>\n",
       "      <td>0.76</td>\n",
       "      <td>9.2</td>\n",
       "      <td>11.81</td>\n",
       "      <td>1.3</td>\n",
       "      <td>21.166315</td>\n",
       "      <td>10</td>\n",
       "    </tr>\n",
       "  </tbody>\n",
       "</table>\n",
       "<p>1431 rows × 10 columns</p>\n",
       "</div>"
      ],
      "text/plain": [
       "      Depth    TP    DP    Cl    TN  TempC   Chla  Secchi        N:P  date\n",
       "0       2.0  39.2  16.2  13.0  0.61    0.0   1.41     0.5  34.410892     4\n",
       "1       2.2  36.8  14.8  17.5  0.45   13.7   9.67     1.1  27.040633     5\n",
       "2       2.0  50.1  27.4  12.1  0.55   14.5   2.04     0.7  24.276000     5\n",
       "4       2.0  59.6  32.6  12.0  0.65   17.7   4.13     0.6  24.116777     6\n",
       "5       1.2  77.3  47.9  10.5  0.62   22.5   1.74     0.6  17.736355     6\n",
       "...     ...   ...   ...   ...   ...    ...    ...     ...        ...   ...\n",
       "3629    2.2  53.4  16.8   8.0  0.69   25.6  27.50     1.1  28.573274     8\n",
       "3631    2.0  83.4  33.9   8.3  0.71   23.7  23.94     1.0  18.825411     9\n",
       "3632    2.0  94.2  40.7   8.7  0.90   22.3  50.16     1.0  21.127289     9\n",
       "3634    2.8  68.8  42.6   9.6  0.74   13.4  10.22     1.4  23.784578    10\n",
       "3636    2.6  79.4  49.7   9.2  0.76    9.2  11.81     1.3  21.166315    10\n",
       "\n",
       "[1431 rows x 10 columns]"
      ]
     },
     "execution_count": 18,
     "metadata": {},
     "output_type": "execute_result"
    }
   ],
   "source": [
    "print_data = False\n",
    "show_positive_cases = False\n",
    "ds2 = ds1.drop(['Station', 'Stratum','Date','StationID','Time'], axis=1)\n",
    "\n",
    "# ds2\n",
    "ds2['Depth'] = ds1['Depth'].astype(str).str.extract('([-+]?\\d*\\.\\d+|\\d+)').astype(float)\n",
    "ds2['TP'] = ds1['TP'].astype(str).str.extract('([-+]?\\d*\\.\\d+|\\d+)').astype(float)\n",
    "ds2['Cl'] = ds1['Cl'].astype(str).str.extract('([-+]?\\d*\\.\\d+|\\d+)').astype(float)\n",
    "ds2['DP'] = ds1['DP'].astype(str).str.extract('([-+]?\\d*\\.\\d+|\\d+)').astype(float)\n",
    "ds2['TN'] = ds1['TN'].astype(str).str.extract('([-+]?\\d*\\.\\d+|\\d+)').astype(float)\n",
    "ds2['TempC'] = ds1['TempC'].astype(str).str.extract('([-+]?\\d*\\.\\d+|\\d+)').astype(float)\n",
    "ds2['Chla'] = ds1['Chla'].astype(str).str.extract('([-+]?\\d*\\.\\d+|\\d+)').astype(float)\n",
    "ds2['Secchi'] = ds1['Secchi'].astype(str).str.extract('([-+]?\\d*\\.\\d+|\\d+)').astype(float)\n",
    "ds2['N:P'] = ((ds2['TN']*1e-3)/14.007)/((ds2['TP']*1e-6)/30.974) #for TN in ds2['TN'] for TP in ds2['TP']]\n",
    "ds2['date'] = ds1['Date'].astype(str).str.extract('(\\d+)').astype(int) # This is just the month number\n",
    "ds2 = ds2.drop(['NP_Cya_bio'], axis=1)\n",
    "ds2 = ds2.fillna(value=0)\n",
    "\n",
    "y = np.array(ds2['target'])\n",
    "X = np.array(ds2.drop(['target'], axis=1))\n",
    "for i, x in enumerate(X.T):\n",
    "    print(np.nanmean(x))\n",
    "    if i == 8:\n",
    "        X[:,i]=np.nan_to_num(x,nan=0,posinf=0,neginf=0)\n",
    "    else:\n",
    "        X[:,i]=np.nan_to_num(x,nan=np.nanmean(x),posinf=np.nanmean(x),neginf=np.nanmean(x))\n",
    "# X=np.nan_to_num(X,nan=0,posinf=0,neginf=0)\n",
    "if show_positive_cases:\n",
    "    ds1.iloc[t]\n",
    "if print_data:\n",
    "    with pd.option_context('display.max_rows', None, 'display.max_columns', None):  # more options can be specified also\n",
    "        print(ds2)\n",
    "ds2.drop(['target'], axis=1)"
   ]
  },
  {
   "cell_type": "code",
   "execution_count": 19,
   "metadata": {},
   "outputs": [],
   "source": [
    "from sklearn import preprocessing\n",
    "def split_data(X,y):\n",
    "    ytp=0\n",
    "    while ytp < 5:\n",
    "        X_train, X_test, y_train, y_test = train_test_split(X, y, test_size=0.20, shuffle=True)\n",
    "        y_train_pos = np.where(y_train == 1)\n",
    "        y_test_pos= np.where(y_test == 1)\n",
    "        ytp = len(y_test_pos[0])\n",
    "    assert len(y_test_pos[0]) >= 5, \"Need at least 5 positive samples in training set\"\n",
    "    return X_train, X_test, y_train, y_test,  len(y_train_pos[0])\n",
    "\n",
    "scale = lambda x : preprocessing.scale(x)\n"
   ]
  },
  {
   "cell_type": "markdown",
   "metadata": {},
   "source": [
    "### SVM\n",
    "Using SVM to find optimal hyperparamters for our dataset.  Scoring using recall."
   ]
  },
  {
   "cell_type": "code",
   "execution_count": 13,
   "metadata": {},
   "outputs": [
    {
     "name": "stdout",
     "output_type": "stream",
     "text": [
      "KERNEL: linear\n",
      "optimizing hyperparams...\n",
      "Fitting 15 folds for each of 800 candidates, totalling 12000 fits\n"
     ]
    },
    {
     "name": "stderr",
     "output_type": "stream",
     "text": [
      "[Parallel(n_jobs=4)]: Using backend LokyBackend with 4 concurrent workers.\n",
      "[Parallel(n_jobs=4)]: Done  10 tasks      | elapsed:    0.7s\n"
     ]
    },
    {
     "ename": "KeyboardInterrupt",
     "evalue": "",
     "output_type": "error",
     "traceback": [
      "\u001b[0;31m---------------------------------------------------------------------------\u001b[0m",
      "\u001b[0;31mKeyboardInterrupt\u001b[0m                         Traceback (most recent call last)",
      "\u001b[0;32m<ipython-input-13-a848f35dfe54>\u001b[0m in \u001b[0;36m<module>\u001b[0;34m()\u001b[0m\n\u001b[1;32m     32\u001b[0m     \u001b[0mprint\u001b[0m\u001b[0;34m(\u001b[0m\u001b[0;34m'optimizing hyperparams...'\u001b[0m\u001b[0;34m)\u001b[0m \u001b[0;31m# Parrallelizing several model classifcations\u001b[0m\u001b[0;34m\u001b[0m\u001b[0;34m\u001b[0m\u001b[0m\n\u001b[1;32m     33\u001b[0m     \u001b[0msearch\u001b[0m \u001b[0;34m=\u001b[0m \u001b[0mRandomizedSearchCV\u001b[0m\u001b[0;34m(\u001b[0m\u001b[0msvm_classifer\u001b[0m\u001b[0;34m,\u001b[0m \u001b[0mdistros\u001b[0m\u001b[0;34m,\u001b[0m \u001b[0mscoring\u001b[0m\u001b[0;34m=\u001b[0m\u001b[0mscoring\u001b[0m\u001b[0;34m,\u001b[0m \u001b[0mverbose\u001b[0m\u001b[0;34m=\u001b[0m\u001b[0;36m5\u001b[0m\u001b[0;34m,\u001b[0m \u001b[0mcv\u001b[0m\u001b[0;34m=\u001b[0m\u001b[0my_train_pos\u001b[0m\u001b[0;34m,\u001b[0m \u001b[0mn_iter\u001b[0m\u001b[0;34m=\u001b[0m\u001b[0;36m800\u001b[0m\u001b[0;34m,\u001b[0m \u001b[0mn_jobs\u001b[0m\u001b[0;34m=\u001b[0m\u001b[0;36m4\u001b[0m\u001b[0;34m,\u001b[0m \u001b[0mpre_dispatch\u001b[0m\u001b[0;34m=\u001b[0m\u001b[0;34m'2*n_jobs'\u001b[0m\u001b[0;34m)\u001b[0m\u001b[0;34m\u001b[0m\u001b[0;34m\u001b[0m\u001b[0m\n\u001b[0;32m---> 34\u001b[0;31m     \u001b[0msearch\u001b[0m \u001b[0;34m=\u001b[0m \u001b[0msearch\u001b[0m\u001b[0;34m.\u001b[0m\u001b[0mfit\u001b[0m\u001b[0;34m(\u001b[0m\u001b[0mX_train_normalized\u001b[0m\u001b[0;34m,\u001b[0m \u001b[0my_train\u001b[0m\u001b[0;34m)\u001b[0m\u001b[0;34m\u001b[0m\u001b[0;34m\u001b[0m\u001b[0m\n\u001b[0m\u001b[1;32m     35\u001b[0m     \u001b[0mbest_estimators\u001b[0m\u001b[0;34m.\u001b[0m\u001b[0mappend\u001b[0m\u001b[0;34m(\u001b[0m\u001b[0msearch\u001b[0m\u001b[0;34m.\u001b[0m\u001b[0mbest_estimator_\u001b[0m\u001b[0;34m)\u001b[0m\u001b[0;34m\u001b[0m\u001b[0;34m\u001b[0m\u001b[0m\n\u001b[1;32m     36\u001b[0m \u001b[0;34m\u001b[0m\u001b[0m\n",
      "\u001b[0;32m/home/tim/.local/lib/python3.6/site-packages/sklearn/model_selection/_search.py\u001b[0m in \u001b[0;36mfit\u001b[0;34m(self, X, y, groups, **fit_params)\u001b[0m\n\u001b[1;32m    708\u001b[0m                 \u001b[0;32mreturn\u001b[0m \u001b[0mresults\u001b[0m\u001b[0;34m\u001b[0m\u001b[0;34m\u001b[0m\u001b[0m\n\u001b[1;32m    709\u001b[0m \u001b[0;34m\u001b[0m\u001b[0m\n\u001b[0;32m--> 710\u001b[0;31m             \u001b[0mself\u001b[0m\u001b[0;34m.\u001b[0m\u001b[0m_run_search\u001b[0m\u001b[0;34m(\u001b[0m\u001b[0mevaluate_candidates\u001b[0m\u001b[0;34m)\u001b[0m\u001b[0;34m\u001b[0m\u001b[0;34m\u001b[0m\u001b[0m\n\u001b[0m\u001b[1;32m    711\u001b[0m \u001b[0;34m\u001b[0m\u001b[0m\n\u001b[1;32m    712\u001b[0m         \u001b[0;31m# For multi-metric evaluation, store the best_index_, best_params_ and\u001b[0m\u001b[0;34m\u001b[0m\u001b[0;34m\u001b[0m\u001b[0;34m\u001b[0m\u001b[0m\n",
      "\u001b[0;32m/home/tim/.local/lib/python3.6/site-packages/sklearn/model_selection/_search.py\u001b[0m in \u001b[0;36m_run_search\u001b[0;34m(self, evaluate_candidates)\u001b[0m\n\u001b[1;32m   1482\u001b[0m         evaluate_candidates(ParameterSampler(\n\u001b[1;32m   1483\u001b[0m             \u001b[0mself\u001b[0m\u001b[0;34m.\u001b[0m\u001b[0mparam_distributions\u001b[0m\u001b[0;34m,\u001b[0m \u001b[0mself\u001b[0m\u001b[0;34m.\u001b[0m\u001b[0mn_iter\u001b[0m\u001b[0;34m,\u001b[0m\u001b[0;34m\u001b[0m\u001b[0;34m\u001b[0m\u001b[0m\n\u001b[0;32m-> 1484\u001b[0;31m             random_state=self.random_state))\n\u001b[0m",
      "\u001b[0;32m/home/tim/.local/lib/python3.6/site-packages/sklearn/model_selection/_search.py\u001b[0m in \u001b[0;36mevaluate_candidates\u001b[0;34m(candidate_params)\u001b[0m\n\u001b[1;32m    687\u001b[0m                                \u001b[0;32mfor\u001b[0m \u001b[0mparameters\u001b[0m\u001b[0;34m,\u001b[0m \u001b[0;34m(\u001b[0m\u001b[0mtrain\u001b[0m\u001b[0;34m,\u001b[0m \u001b[0mtest\u001b[0m\u001b[0;34m)\u001b[0m\u001b[0;34m\u001b[0m\u001b[0;34m\u001b[0m\u001b[0m\n\u001b[1;32m    688\u001b[0m                                in product(candidate_params,\n\u001b[0;32m--> 689\u001b[0;31m                                           cv.split(X, y, groups)))\n\u001b[0m\u001b[1;32m    690\u001b[0m \u001b[0;34m\u001b[0m\u001b[0m\n\u001b[1;32m    691\u001b[0m                 \u001b[0;32mif\u001b[0m \u001b[0mlen\u001b[0m\u001b[0;34m(\u001b[0m\u001b[0mout\u001b[0m\u001b[0;34m)\u001b[0m \u001b[0;34m<\u001b[0m \u001b[0;36m1\u001b[0m\u001b[0;34m:\u001b[0m\u001b[0;34m\u001b[0m\u001b[0;34m\u001b[0m\u001b[0m\n",
      "\u001b[0;32m/home/tim/.local/lib/python3.6/site-packages/joblib/parallel.py\u001b[0m in \u001b[0;36m__call__\u001b[0;34m(self, iterable)\u001b[0m\n\u001b[1;32m   1015\u001b[0m \u001b[0;34m\u001b[0m\u001b[0m\n\u001b[1;32m   1016\u001b[0m             \u001b[0;32mwith\u001b[0m \u001b[0mself\u001b[0m\u001b[0;34m.\u001b[0m\u001b[0m_backend\u001b[0m\u001b[0;34m.\u001b[0m\u001b[0mretrieval_context\u001b[0m\u001b[0;34m(\u001b[0m\u001b[0;34m)\u001b[0m\u001b[0;34m:\u001b[0m\u001b[0;34m\u001b[0m\u001b[0;34m\u001b[0m\u001b[0m\n\u001b[0;32m-> 1017\u001b[0;31m                 \u001b[0mself\u001b[0m\u001b[0;34m.\u001b[0m\u001b[0mretrieve\u001b[0m\u001b[0;34m(\u001b[0m\u001b[0;34m)\u001b[0m\u001b[0;34m\u001b[0m\u001b[0;34m\u001b[0m\u001b[0m\n\u001b[0m\u001b[1;32m   1018\u001b[0m             \u001b[0;31m# Make sure that we get a last message telling us we are done\u001b[0m\u001b[0;34m\u001b[0m\u001b[0;34m\u001b[0m\u001b[0;34m\u001b[0m\u001b[0m\n\u001b[1;32m   1019\u001b[0m             \u001b[0melapsed_time\u001b[0m \u001b[0;34m=\u001b[0m \u001b[0mtime\u001b[0m\u001b[0;34m.\u001b[0m\u001b[0mtime\u001b[0m\u001b[0;34m(\u001b[0m\u001b[0;34m)\u001b[0m \u001b[0;34m-\u001b[0m \u001b[0mself\u001b[0m\u001b[0;34m.\u001b[0m\u001b[0m_start_time\u001b[0m\u001b[0;34m\u001b[0m\u001b[0;34m\u001b[0m\u001b[0m\n",
      "\u001b[0;32m/home/tim/.local/lib/python3.6/site-packages/joblib/parallel.py\u001b[0m in \u001b[0;36mretrieve\u001b[0;34m(self)\u001b[0m\n\u001b[1;32m    907\u001b[0m             \u001b[0;32mtry\u001b[0m\u001b[0;34m:\u001b[0m\u001b[0;34m\u001b[0m\u001b[0;34m\u001b[0m\u001b[0m\n\u001b[1;32m    908\u001b[0m                 \u001b[0;32mif\u001b[0m \u001b[0mgetattr\u001b[0m\u001b[0;34m(\u001b[0m\u001b[0mself\u001b[0m\u001b[0;34m.\u001b[0m\u001b[0m_backend\u001b[0m\u001b[0;34m,\u001b[0m \u001b[0;34m'supports_timeout'\u001b[0m\u001b[0;34m,\u001b[0m \u001b[0;32mFalse\u001b[0m\u001b[0;34m)\u001b[0m\u001b[0;34m:\u001b[0m\u001b[0;34m\u001b[0m\u001b[0;34m\u001b[0m\u001b[0m\n\u001b[0;32m--> 909\u001b[0;31m                     \u001b[0mself\u001b[0m\u001b[0;34m.\u001b[0m\u001b[0m_output\u001b[0m\u001b[0;34m.\u001b[0m\u001b[0mextend\u001b[0m\u001b[0;34m(\u001b[0m\u001b[0mjob\u001b[0m\u001b[0;34m.\u001b[0m\u001b[0mget\u001b[0m\u001b[0;34m(\u001b[0m\u001b[0mtimeout\u001b[0m\u001b[0;34m=\u001b[0m\u001b[0mself\u001b[0m\u001b[0;34m.\u001b[0m\u001b[0mtimeout\u001b[0m\u001b[0;34m)\u001b[0m\u001b[0;34m)\u001b[0m\u001b[0;34m\u001b[0m\u001b[0;34m\u001b[0m\u001b[0m\n\u001b[0m\u001b[1;32m    910\u001b[0m                 \u001b[0;32melse\u001b[0m\u001b[0;34m:\u001b[0m\u001b[0;34m\u001b[0m\u001b[0;34m\u001b[0m\u001b[0m\n\u001b[1;32m    911\u001b[0m                     \u001b[0mself\u001b[0m\u001b[0;34m.\u001b[0m\u001b[0m_output\u001b[0m\u001b[0;34m.\u001b[0m\u001b[0mextend\u001b[0m\u001b[0;34m(\u001b[0m\u001b[0mjob\u001b[0m\u001b[0;34m.\u001b[0m\u001b[0mget\u001b[0m\u001b[0;34m(\u001b[0m\u001b[0;34m)\u001b[0m\u001b[0;34m)\u001b[0m\u001b[0;34m\u001b[0m\u001b[0;34m\u001b[0m\u001b[0m\n",
      "\u001b[0;32m/home/tim/.local/lib/python3.6/site-packages/joblib/_parallel_backends.py\u001b[0m in \u001b[0;36mwrap_future_result\u001b[0;34m(future, timeout)\u001b[0m\n\u001b[1;32m    560\u001b[0m         AsyncResults.get from multiprocessing.\"\"\"\n\u001b[1;32m    561\u001b[0m         \u001b[0;32mtry\u001b[0m\u001b[0;34m:\u001b[0m\u001b[0;34m\u001b[0m\u001b[0;34m\u001b[0m\u001b[0m\n\u001b[0;32m--> 562\u001b[0;31m             \u001b[0;32mreturn\u001b[0m \u001b[0mfuture\u001b[0m\u001b[0;34m.\u001b[0m\u001b[0mresult\u001b[0m\u001b[0;34m(\u001b[0m\u001b[0mtimeout\u001b[0m\u001b[0;34m=\u001b[0m\u001b[0mtimeout\u001b[0m\u001b[0;34m)\u001b[0m\u001b[0;34m\u001b[0m\u001b[0;34m\u001b[0m\u001b[0m\n\u001b[0m\u001b[1;32m    563\u001b[0m         \u001b[0;32mexcept\u001b[0m \u001b[0mLokyTimeoutError\u001b[0m\u001b[0;34m:\u001b[0m\u001b[0;34m\u001b[0m\u001b[0;34m\u001b[0m\u001b[0m\n\u001b[1;32m    564\u001b[0m             \u001b[0;32mraise\u001b[0m \u001b[0mTimeoutError\u001b[0m\u001b[0;34m(\u001b[0m\u001b[0;34m)\u001b[0m\u001b[0;34m\u001b[0m\u001b[0;34m\u001b[0m\u001b[0m\n",
      "\u001b[0;32m/usr/lib/python3.6/concurrent/futures/_base.py\u001b[0m in \u001b[0;36mresult\u001b[0;34m(self, timeout)\u001b[0m\n\u001b[1;32m    425\u001b[0m                 \u001b[0;32mreturn\u001b[0m \u001b[0mself\u001b[0m\u001b[0;34m.\u001b[0m\u001b[0m__get_result\u001b[0m\u001b[0;34m(\u001b[0m\u001b[0;34m)\u001b[0m\u001b[0;34m\u001b[0m\u001b[0;34m\u001b[0m\u001b[0m\n\u001b[1;32m    426\u001b[0m \u001b[0;34m\u001b[0m\u001b[0m\n\u001b[0;32m--> 427\u001b[0;31m             \u001b[0mself\u001b[0m\u001b[0;34m.\u001b[0m\u001b[0m_condition\u001b[0m\u001b[0;34m.\u001b[0m\u001b[0mwait\u001b[0m\u001b[0;34m(\u001b[0m\u001b[0mtimeout\u001b[0m\u001b[0;34m)\u001b[0m\u001b[0;34m\u001b[0m\u001b[0;34m\u001b[0m\u001b[0m\n\u001b[0m\u001b[1;32m    428\u001b[0m \u001b[0;34m\u001b[0m\u001b[0m\n\u001b[1;32m    429\u001b[0m             \u001b[0;32mif\u001b[0m \u001b[0mself\u001b[0m\u001b[0;34m.\u001b[0m\u001b[0m_state\u001b[0m \u001b[0;32min\u001b[0m \u001b[0;34m[\u001b[0m\u001b[0mCANCELLED\u001b[0m\u001b[0;34m,\u001b[0m \u001b[0mCANCELLED_AND_NOTIFIED\u001b[0m\u001b[0;34m]\u001b[0m\u001b[0;34m:\u001b[0m\u001b[0;34m\u001b[0m\u001b[0;34m\u001b[0m\u001b[0m\n",
      "\u001b[0;32m/usr/lib/python3.6/threading.py\u001b[0m in \u001b[0;36mwait\u001b[0;34m(self, timeout)\u001b[0m\n\u001b[1;32m    293\u001b[0m         \u001b[0;32mtry\u001b[0m\u001b[0;34m:\u001b[0m    \u001b[0;31m# restore state no matter what (e.g., KeyboardInterrupt)\u001b[0m\u001b[0;34m\u001b[0m\u001b[0;34m\u001b[0m\u001b[0m\n\u001b[1;32m    294\u001b[0m             \u001b[0;32mif\u001b[0m \u001b[0mtimeout\u001b[0m \u001b[0;32mis\u001b[0m \u001b[0;32mNone\u001b[0m\u001b[0;34m:\u001b[0m\u001b[0;34m\u001b[0m\u001b[0;34m\u001b[0m\u001b[0m\n\u001b[0;32m--> 295\u001b[0;31m                 \u001b[0mwaiter\u001b[0m\u001b[0;34m.\u001b[0m\u001b[0macquire\u001b[0m\u001b[0;34m(\u001b[0m\u001b[0;34m)\u001b[0m\u001b[0;34m\u001b[0m\u001b[0;34m\u001b[0m\u001b[0m\n\u001b[0m\u001b[1;32m    296\u001b[0m                 \u001b[0mgotit\u001b[0m \u001b[0;34m=\u001b[0m \u001b[0;32mTrue\u001b[0m\u001b[0;34m\u001b[0m\u001b[0;34m\u001b[0m\u001b[0m\n\u001b[1;32m    297\u001b[0m             \u001b[0;32melse\u001b[0m\u001b[0;34m:\u001b[0m\u001b[0;34m\u001b[0m\u001b[0;34m\u001b[0m\u001b[0m\n",
      "\u001b[0;31mKeyboardInterrupt\u001b[0m: "
     ]
    }
   ],
   "source": [
    "# change from normalize to scale \n",
    "# eval with ROC AUC stuff\n",
    "from sklearn.model_selection import train_test_split\n",
    "from sklearn.model_selection import RandomizedSearchCV\n",
    "from sklearn.model_selection import GridSearchCV\n",
    "from sklearn.model_selection import LeaveOneOut\n",
    "from sklearn import svm\n",
    "from sklearn import metrics\n",
    "from sklearn.metrics import recall_score, make_scorer\n",
    "from sklearn.model_selection import cross_val_score, cross_val_predict\n",
    "# Separate test and training sets\n",
    "\n",
    "X_train, X_test, y_train, y_test, y_train_pos = split_data(X, y)\n",
    "\n",
    "loo = LeaveOneOut() # Specify cross-val technique\n",
    "X_train_normalized = scale(X_train) # normalize X for processing\n",
    "svm_classifer = svm.SVC()\n",
    "kernels = ['linear', 'poly', 'rbf', 'sigmoid']\n",
    "# kernels = ['linear']\n",
    "scoring = make_scorer(recall_score, zero_division=0) # using two scroing metrics for training and testing \n",
    "best_estimators = []\n",
    "distros = dict(C=np.logspace(-3, 2, 5), \n",
    "               gamma=np.logspace(-9, 1, 8), \n",
    "               degree=[2,3,4], \n",
    "               coef0=[-2,-1,0,1,2],\n",
    "              class_weight=['balanced', None])\n",
    "\n",
    "# Perform Random search CV to find best params\n",
    "for kernel in kernels:\n",
    "    print(f'KERNEL: {kernel}')\n",
    "    svm_classifer = svm.SVC(kernel=kernel, cache_size=2000)\n",
    "    print('optimizing hyperparams...') # Parrallelizing several model classifcations \n",
    "    search = RandomizedSearchCV(svm_classifer, distros, scoring=scoring, verbose=5, cv=y_train_pos, n_iter=800, n_jobs=4, pre_dispatch='2*n_jobs')\n",
    "    search = search.fit(X_train_normalized, y_train)\n",
    "    best_estimators.append(search.best_estimator_)\n",
    "    \n",
    "for ii, estimator in enumerate(best_estimators):\n",
    "    # we want to fit the best estimator\n",
    "    # then test it, look for recall and AUC\n",
    "    # print confusion matrix\n",
    "    estimator.fit(X_train_normalized, y_train)\n",
    "    X_test_normalized = scale(X_test)\n",
    "    y_predict = estimator.predict(X_test_normalized)\n",
    "    recall = metrics.recall_score(y_test, y_predict, zero_division=0)\n",
    "    auc = metrics.roc_auc_score(y_test, y_predict)\n",
    "    print('========================================')\n",
    "    print(f'KERNEL: {kernels[ii]}')\n",
    "    print('----------------------------------------')\n",
    "    print(f'RECALL: {recall}')\n",
    "    print(f'ROC AUC: {auc}')\n",
    "    print(metrics.confusion_matrix(y_test, y_predict))\n",
    "    # [TN  FP\n",
    "    #  FN TP ]"
   ]
  },
  {
   "cell_type": "code",
   "execution_count": null,
   "metadata": {},
   "outputs": [],
   "source": [
    "print(best_estimators)"
   ]
  },
  {
   "cell_type": "code",
   "execution_count": null,
   "metadata": {},
   "outputs": [],
   "source": [
    "import scikitplot as skplt\n",
    "from sklearn import svm\n",
    "\n",
    "X_train, X_test, y_train, y_test = split_data(X, y)\n",
    "model = svm.SVC(C=0.31622776601683794, break_ties=False, cache_size=2000,\n",
    "    class_weight='balanced', coef0=-2, decision_function_shape='ovr', degree=4,\n",
    "    gamma=0.01389495494373139, kernel='rbf', max_iter=-1, probability=True,\n",
    "    random_state=None, shrinking=True, tol=0.001, verbose=False)\n",
    "\n",
    "X_train_normalized = scale(X_train) # normalize X for processing\n",
    "model.fit(X_train_normalized, y_train)\n",
    "X_test_normalized = scale(X_test)\n",
    "y_predict = model.predict_proba(X_test_normalized)\n",
    "skplt.metrics.plot_roc_curve(y_test, y_predict, figsize=(8,8), title_fontsize=18, text_fontsize=14)\n"
   ]
  },
  {
   "cell_type": "markdown",
   "metadata": {},
   "source": [
    "### SVM\n",
    "Using SVM to find optimal hyperparamters for our dataset.  Scoring using AUC and Precision-Recall Curve"
   ]
  },
  {
   "cell_type": "code",
   "execution_count": 29,
   "metadata": {},
   "outputs": [
    {
     "name": "stdout",
     "output_type": "stream",
     "text": [
      "KERNEL: linear\n",
      "optimizing hyperparams...\n",
      "Fitting 15 folds for each of 800 candidates, totalling 12000 fits\n"
     ]
    },
    {
     "name": "stderr",
     "output_type": "stream",
     "text": [
      "[Parallel(n_jobs=4)]: Using backend LokyBackend with 4 concurrent workers.\n",
      "[Parallel(n_jobs=4)]: Done  12 tasks      | elapsed:    0.1s\n",
      "[Parallel(n_jobs=4)]: Done 138 tasks      | elapsed:    7.2s\n",
      "[Parallel(n_jobs=4)]: Done 410 tasks      | elapsed:   20.3s\n",
      "[Parallel(n_jobs=4)]: Done 724 tasks      | elapsed:   35.5s\n",
      "[Parallel(n_jobs=4)]: Done 1348 tasks      | elapsed:   49.9s\n",
      "[Parallel(n_jobs=4)]: Done 2112 tasks      | elapsed:  1.2min\n",
      "[Parallel(n_jobs=4)]: Done 3108 tasks      | elapsed:  1.9min\n",
      "[Parallel(n_jobs=4)]: Done 3960 tasks      | elapsed:  2.6min\n",
      "[Parallel(n_jobs=4)]: Done 4812 tasks      | elapsed:  3.2min\n",
      "[Parallel(n_jobs=4)]: Done 6092 tasks      | elapsed:  3.8min\n",
      "[Parallel(n_jobs=4)]: Done 7238 tasks      | elapsed:  4.6min\n",
      "[Parallel(n_jobs=4)]: Done 8634 tasks      | elapsed:  5.5min\n",
      "[Parallel(n_jobs=4)]: Done 10820 tasks      | elapsed:  6.5min\n",
      "[Parallel(n_jobs=4)]: Done 12000 out of 12000 | elapsed:  7.1min finished\n",
      "[Parallel(n_jobs=4)]: Using backend LokyBackend with 4 concurrent workers.\n",
      "[Parallel(n_jobs=4)]: Done  12 tasks      | elapsed:    0.0s\n"
     ]
    },
    {
     "name": "stdout",
     "output_type": "stream",
     "text": [
      "KERNEL: poly\n",
      "optimizing hyperparams...\n",
      "Fitting 15 folds for each of 800 candidates, totalling 12000 fits\n"
     ]
    },
    {
     "name": "stderr",
     "output_type": "stream",
     "text": [
      "[Parallel(n_jobs=4)]: Done 376 tasks      | elapsed:    2.8s\n",
      "[Parallel(n_jobs=4)]: Done 1096 tasks      | elapsed:    8.4s\n",
      "[Parallel(n_jobs=4)]: Done 2104 tasks      | elapsed:   16.6s\n",
      "[Parallel(n_jobs=4)]: Done 3400 tasks      | elapsed:   28.4s\n",
      "[Parallel(n_jobs=4)]: Done 4984 tasks      | elapsed:   41.1s\n",
      "[Parallel(n_jobs=4)]: Done 6856 tasks      | elapsed:   55.4s\n",
      "[Parallel(n_jobs=4)]: Done 9016 tasks      | elapsed:  1.2min\n",
      "[Parallel(n_jobs=4)]: Done 11464 tasks      | elapsed:  1.7min\n",
      "[Parallel(n_jobs=4)]: Done 12000 out of 12000 | elapsed:  1.8min finished\n",
      "[Parallel(n_jobs=4)]: Using backend LokyBackend with 4 concurrent workers.\n",
      "[Parallel(n_jobs=4)]: Done  12 tasks      | elapsed:    0.1s\n"
     ]
    },
    {
     "name": "stdout",
     "output_type": "stream",
     "text": [
      "KERNEL: rbf\n",
      "optimizing hyperparams...\n",
      "Fitting 15 folds for each of 800 candidates, totalling 12000 fits\n"
     ]
    },
    {
     "name": "stderr",
     "output_type": "stream",
     "text": [
      "[Parallel(n_jobs=4)]: Done 296 tasks      | elapsed:    2.6s\n",
      "[Parallel(n_jobs=4)]: Done 1016 tasks      | elapsed:   13.5s\n",
      "[Parallel(n_jobs=4)]: Done 1664 tasks      | elapsed:   21.9s\n",
      "[Parallel(n_jobs=4)]: Done 2400 tasks      | elapsed:   32.7s\n",
      "[Parallel(n_jobs=4)]: Done 3984 tasks      | elapsed:   53.1s\n",
      "[Parallel(n_jobs=4)]: Done 5856 tasks      | elapsed:  1.3min\n",
      "[Parallel(n_jobs=4)]: Done 8016 tasks      | elapsed:  1.8min\n",
      "[Parallel(n_jobs=4)]: Done 10464 tasks      | elapsed:  2.3min\n",
      "[Parallel(n_jobs=4)]: Done 12000 out of 12000 | elapsed:  2.6min finished\n",
      "[Parallel(n_jobs=4)]: Using backend LokyBackend with 4 concurrent workers.\n"
     ]
    },
    {
     "name": "stdout",
     "output_type": "stream",
     "text": [
      "KERNEL: sigmoid\n",
      "optimizing hyperparams...\n",
      "Fitting 15 folds for each of 800 candidates, totalling 12000 fits\n"
     ]
    },
    {
     "name": "stderr",
     "output_type": "stream",
     "text": [
      "[Parallel(n_jobs=4)]: Done  12 tasks      | elapsed:    0.1s\n",
      "[Parallel(n_jobs=4)]: Done 590 tasks      | elapsed:    5.6s\n",
      "[Parallel(n_jobs=4)]: Done 1248 tasks      | elapsed:   14.1s\n",
      "[Parallel(n_jobs=4)]: Done 2256 tasks      | elapsed:   29.1s\n",
      "[Parallel(n_jobs=4)]: Done 3552 tasks      | elapsed:   48.1s\n",
      "[Parallel(n_jobs=4)]: Done 5136 tasks      | elapsed:  1.1min\n",
      "[Parallel(n_jobs=4)]: Done 7008 tasks      | elapsed:  1.6min\n",
      "[Parallel(n_jobs=4)]: Done 9168 tasks      | elapsed:  2.1min\n",
      "[Parallel(n_jobs=4)]: Done 11616 tasks      | elapsed:  2.6min\n"
     ]
    },
    {
     "name": "stdout",
     "output_type": "stream",
     "text": [
      "========================================\n",
      "KERNEL: linear\n",
      "----------------------------------------\n",
      "RECALL: 1.0\n",
      "ROC AUC: 0.9361702127659575\n",
      "[[246  36]\n",
      " [  0   5]]\n",
      "========================================\n",
      "KERNEL: poly\n",
      "----------------------------------------\n",
      "RECALL: 1.0\n",
      "ROC AUC: 0.9397163120567377\n",
      "[[248  34]\n",
      " [  0   5]]\n",
      "========================================\n",
      "KERNEL: rbf\n",
      "----------------------------------------\n",
      "RECALL: 1.0\n",
      "ROC AUC: 0.9361702127659575\n",
      "[[246  36]\n",
      " [  0   5]]\n",
      "========================================\n",
      "KERNEL: sigmoid\n",
      "----------------------------------------\n",
      "RECALL: 0.0\n",
      "ROC AUC: 0.5\n",
      "[[282   0]\n",
      " [  5   0]]\n"
     ]
    },
    {
     "name": "stderr",
     "output_type": "stream",
     "text": [
      "[Parallel(n_jobs=4)]: Done 12000 out of 12000 | elapsed:  2.7min finished\n"
     ]
    }
   ],
   "source": [
    "# change from normalize to scale \n",
    "# eval with ROC AUC stuff\n",
    "from sklearn.model_selection import train_test_split\n",
    "from sklearn.model_selection import RandomizedSearchCV\n",
    "from sklearn.model_selection import GridSearchCV\n",
    "from sklearn.model_selection import LeaveOneOut\n",
    "from sklearn import svm\n",
    "from sklearn import metrics\n",
    "from sklearn.metrics import average_precision_score, make_scorer\n",
    "from sklearn.model_selection import cross_val_score, cross_val_predict\n",
    "\n",
    "X_train, X_test, y_train, y_test, y_train_pos = split_data(X, y)\n",
    "\n",
    "loo = LeaveOneOut() # Specify cross-val technique\n",
    "X_train_normalized = scale(X_train) # normalize X for processing\n",
    "svm_classifer = svm.SVC()\n",
    "kernels = ['linear', 'poly', 'rbf', 'sigmoid']\n",
    "# kernels = ['linear']\n",
    "scoring = {'AUC': 'roc_auc', 'Avg_precis': make_scorer(average_precision_score)} # using two scroing metrics for training and testing \n",
    "# scoring = make_scorer(average_precision_score) # using two scroing metrics for training and testing \n",
    "\n",
    "best_estimators = []\n",
    "distros = dict(C=np.logspace(-3, 2, 5), \n",
    "               gamma=np.logspace(-9, 1, 8), \n",
    "               degree=[2,3,4], \n",
    "               coef0=[-2,-1,0,1,2],\n",
    "              class_weight=['balanced', None])\n",
    "\n",
    "# Perform Random search CV to find best params\n",
    "for kernel in kernels:\n",
    "    print(f'KERNEL: {kernel}')\n",
    "    svm_classifer = svm.SVC(kernel=kernel, cache_size=2000)\n",
    "    print('optimizing hyperparams...') # Parrallelizing several model classifcations \n",
    "    search = RandomizedSearchCV(svm_classifer, distros, scoring=scoring, refit='AUC', verbose=5, cv=y_train_pos, n_iter=800, n_jobs=4, pre_dispatch='2*n_jobs')\n",
    "    search = search.fit(X_train_normalized, y_train)\n",
    "    best_estimators.append(search.best_estimator_)\n",
    "    \n",
    "for ii, estimator in enumerate(best_estimators):\n",
    "    # we want to fit the best estimator\n",
    "    # then test it, look for recall and AUC\n",
    "    # print confusion matrix\n",
    "    estimator.fit(X_train_normalized, y_train)\n",
    "    X_test_normalized = scale(X_test)\n",
    "    y_predict = estimator.predict(X_test_normalized)\n",
    "    recall = metrics.recall_score(y_test, y_predict, zero_division=0)\n",
    "    auc = metrics.roc_auc_score(y_test, y_predict)\n",
    "    print('========================================')\n",
    "    print(f'KERNEL: {kernels[ii]}')\n",
    "    print('----------------------------------------')\n",
    "    print(f'RECALL: {recall}')\n",
    "    print(f'ROC AUC: {auc}')\n",
    "    print(metrics.confusion_matrix(y_test, y_predict))\n",
    "    # [TN  FP\n",
    "    #  FN TP ]"
   ]
  },
  {
   "cell_type": "code",
   "execution_count": 30,
   "metadata": {},
   "outputs": [
    {
     "name": "stdout",
     "output_type": "stream",
     "text": [
      "[SVC(C=0.01778279410038923, break_ties=False, cache_size=2000,\n",
      "    class_weight='balanced', coef0=-2, decision_function_shape='ovr', degree=4,\n",
      "    gamma=2.682695795279727e-08, kernel='linear', max_iter=-1,\n",
      "    probability=False, random_state=None, shrinking=True, tol=0.001,\n",
      "    verbose=False), SVC(C=5.623413251903491, break_ties=False, cache_size=2000,\n",
      "    class_weight='balanced', coef0=2, decision_function_shape='ovr', degree=3,\n",
      "    gamma=0.0005179474679231213, kernel='poly', max_iter=-1, probability=False,\n",
      "    random_state=None, shrinking=True, tol=0.001, verbose=False), SVC(C=5.623413251903491, break_ties=False, cache_size=2000,\n",
      "    class_weight='balanced', coef0=0, decision_function_shape='ovr', degree=2,\n",
      "    gamma=0.0005179474679231213, kernel='rbf', max_iter=-1, probability=False,\n",
      "    random_state=None, shrinking=True, tol=0.001, verbose=False), SVC(C=0.31622776601683794, break_ties=False, cache_size=2000, class_weight=None,\n",
      "    coef0=2, decision_function_shape='ovr', degree=4,\n",
      "    gamma=2.682695795279727e-08, kernel='sigmoid', max_iter=-1,\n",
      "    probability=False, random_state=None, shrinking=True, tol=0.001,\n",
      "    verbose=False)]\n"
     ]
    }
   ],
   "source": [
    "print(best_estimators)"
   ]
  },
  {
   "cell_type": "code",
   "execution_count": 31,
   "metadata": {},
   "outputs": [
    {
     "data": {
      "image/png": "[encoded data removed]",
      "text/plain": [
       "<Figure size 720x576 with 1 Axes>"
      ]
     },
     "metadata": {},
     "output_type": "display_data"
    },
    {
     "data": {
      "image/png": "[encoded data removed]",
      "text/plain": [
       "<Figure size 720x576 with 1 Axes>"
      ]
     },
     "metadata": {},
     "output_type": "display_data"
    }
   ],
   "source": [
    "import scikitplot as skplt\n",
    "from sklearn import svm\n",
    "from sklearn.model_selection import train_test_split\n",
    "\n",
    "X_train, X_test, y_train, y_test, y_train_pos = split_data(X, y)\n",
    "\n",
    "model = svm.SVC(C=0.01778279410038923, break_ties=False, cache_size=2000,\n",
    "    class_weight='balanced', coef0=-2, decision_function_shape='ovr', degree=4,\n",
    "    gamma=2.682695795279727e-08, kernel='linear', max_iter=-1,\n",
    "    probability=True, random_state=None, shrinking=True, tol=0.001,\n",
    "    verbose=False)\n",
    "\n",
    "# SVC(C=0.001, break_ties=False, cache_size=2000, class_weight='balanced',\n",
    "#     coef0=-2, decision_function_shape='ovr', degree=4,\n",
    "#     gamma=7.196856730011529e-07, kernel='linear', max_iter=-1,\n",
    "#     probability=True, random_state=None, shrinking=True, tol=0.001,\n",
    "#     verbose=False)\n",
    "X_train_normalized = scale(X_train) # normalize X for processing\n",
    "model.fit(X_train_normalized, y_train)\n",
    "X_test_normalized = scale(X_test)\n",
    "y_predict = model.predict_proba(X_test_normalized)\n",
    "\n",
    "skplt.metrics.plot_precision_recall(y_test, y_predict, figsize=(10,8), title_fontsize=18, text_fontsize=18)\n",
    "plt.xlabel('Recall', fontsize=16)\n",
    "plt.ylabel('Precison', fontsize=16)\n",
    "plt.savefig('figures/precision_recall.png', format='png')\n",
    "\n",
    "skplt.metrics.plot_roc(y_test, y_predict, figsize=(10,8), title_fontsize=18, text_fontsize=18)\n",
    "# plt.xlabel('Recall', fontsize=16)\n",
    "# plt.ylabel('Precison', fontsize=16)\n",
    "plt.savefig('figures/roc_curve.png', format='png')"
   ]
  },
  {
   "cell_type": "code",
   "execution_count": null,
   "metadata": {},
   "outputs": [],
   "source": []
  }
 ],
 "metadata": {
  "kernelspec": {
   "display_name": "Python 3",
   "language": "python",
   "name": "python3"
  },
  "language_info": {
   "codemirror_mode": {
    "name": "ipython",
    "version": 3
   },
   "file_extension": ".py",
   "mimetype": "text/x-python",
   "name": "python",
   "nbconvert_exporter": "python",
   "pygments_lexer": "ipython3",
   "version": "3.6.8"
  }
 },
 "nbformat": 4,
 "nbformat_minor": 2
}
