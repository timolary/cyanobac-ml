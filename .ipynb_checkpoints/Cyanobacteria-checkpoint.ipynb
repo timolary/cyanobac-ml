{
 "cells": [
  {
   "cell_type": "markdown",
   "metadata": {},
   "source": [
    "### Modeling Cyanobacteria Blooms in Lake Champlain"
   ]
  },
  {
   "cell_type": "markdown",
   "metadata": {},
   "source": [
    "To do:\n",
    "- import data\n",
    "- code bloom/no bloom - recode using WHO thresholds and cell counts (requires redownloading the data)\n",
    "- code stratified/unstratified\n",
    "\n",
    "Try each of the following:\n",
    "- linear regression - MC\n",
    "- logistic regression - TL\n",
    "- SVM with various kernels -TL\n",
    "- random forest - MC\n",
    "\n",
    "Also explore feature importance\n",
    "- look at the data with PCA?\n",
    "- use a feature importance function from sci kit learn to look at that...?"
   ]
  },
  {
   "cell_type": "code",
   "execution_count": 3,
   "metadata": {},
   "outputs": [],
   "source": [
    "import os\n",
    "import numpy as np\n",
    "import pandas as pd\n",
    "import matplotlib.pyplot as plt"
   ]
  },
  {
   "cell_type": "code",
   "execution_count": 14,
   "metadata": {},
   "outputs": [
    {
     "name": "stdout",
     "output_type": "stream",
     "text": [
      "     StationID         Station     Date  Time Stratum Depth    TP    DP    Cl  \\\n",
      "156         40  St. Albans Bay   8/6/14  1210       U   2.2    37  12.1  10.6   \n",
      "157         40  St. Albans Bay  8/19/14  1010       U   2.6  41.7  13.5  10.9   \n",
      "\n",
      "       TN  TempC  DO   Chla Secchi   NP_Cya_bio  label  \n",
      "156  0.74   24.7 NaN   28.2    1.1  711000000.0  Bloom  \n",
      "157  0.61   20.5 NaN  25.38    1.3  728000000.0  Bloom  \n",
      "     StationID                 Station     Date    Time Stratum  Depth     TP  \\\n",
      "14          51  Missisquoi Bay Central   9/7/06  1055.0       U    2.4   62.9   \n",
      "17          51  Missisquoi Bay Central  9/22/06  1040.0       U    2.0   73.7   \n",
      "52          51  Missisquoi Bay Central   8/6/08  1115.0       U    2.0   74.1   \n",
      "109         51  Missisquoi Bay Central  8/12/11  1105.0       U    3.0   61.4   \n",
      "127         51  Missisquoi Bay Central   8/6/12  1050.0       U    1.8    109   \n",
      "128         51  Missisquoi Bay Central  8/21/12  1245.0       U    1.0  H88.7   \n",
      "143         51  Missisquoi Bay Central  7/30/13  1100.0       U    1.8   63.4   \n",
      "149         51  Missisquoi Bay Central  10/9/13  1250.0       U    1.0   52.8   \n",
      "163         51  Missisquoi Bay Central  8/20/14  1100.0       U    1.8   96.1   \n",
      "177         51  Missisquoi Bay Central  7/20/15  1132.0       U    2.4   48.7   \n",
      "180         51  Missisquoi Bay Central   8/6/15  1103.0       U    2.2   67.4   \n",
      "185         51  Missisquoi Bay Central  9/17/15  1100.0       U    2.0   94.2   \n",
      "\n",
      "       DP   Cl     TN  TempC  DO    Chla  Secchi    NP_Cya_bio  label  \n",
      "14     18  6.3   0.77   19.3 NaN    3.73     1.2  4.380000e+08  Bloom  \n",
      "17   19.5  6.6    0.8   17.3 NaN    42.4     0.8  1.540000e+09  Bloom  \n",
      "52   29.7  7.1   0.81   23.2 NaN    45.5     1.1  1.190000e+09  Bloom  \n",
      "109    20    6  H0.55   23.5 NaN   J31.8     1.5  5.190000e+08  Bloom  \n",
      "127  46.8  7.5   0.61   25.5 NaN  H33.27     0.9  4.150000e+08  Bloom  \n",
      "128  20.1  7.8  H0.87   23.1 NaN  H113.1     0.5  1.670000e+09  Bloom  \n",
      "143  21.1  7.7   0.88    NaN NaN   74.24     0.9  2.670000e+09  Bloom  \n",
      "149  29.7  8.3   0.44   15.6 NaN     NaN     1.5  6.340000e+08  Bloom  \n",
      "163  29.5  8.5   1.04   20.6 NaN   34.73     0.9  7.340000e+08  Bloom  \n",
      "177  22.7  8.1   0.83   24.1 NaN   21.63     1.2  4.880000e+08  Bloom  \n",
      "180  25.8  7.7   0.71   23.4 NaN   42.08     1.1  4.720000e+08  Bloom  \n",
      "185  40.7  8.7    0.9   22.3 NaN   50.16     1.0  4.430000e+08  Bloom  \n"
     ]
    }
   ],
   "source": [
    "#load data\n",
    "pathSA = os.getcwd() + '/data/StAlbans_wide.csv'\n",
    "pathMB = os.getcwd() + '/data/MissisquoiCentral_wide.csv'\n",
    "\n",
    "SA = pd.read_csv(pathSA)\n",
    "MB = pd.read_csv(pathMB)\n",
    "\n",
    "SA['label'] = ['Bloom' if x >= 4e8 else 'noBloom' for x in SA['NP_Cya_bio']]\n",
    "MB['label'] = ['Bloom' if x >= 4e8 else 'noBloom' for x in MB['NP_Cya_bio']]\n",
    "\n",
    "print(SA[SA['label'] == 'Bloom'])\n",
    "print(MB[MB['label'] == 'Bloom'])\n"
   ]
  },
  {
   "cell_type": "code",
   "execution_count": null,
   "metadata": {},
   "outputs": [],
   "source": []
  }
 ],
 "metadata": {
  "kernelspec": {
   "display_name": "Python 3",
   "language": "python",
   "name": "python3"
  },
  "language_info": {
   "codemirror_mode": {
    "name": "ipython",
    "version": 3
   },
   "file_extension": ".py",
   "mimetype": "text/x-python",
   "name": "python",
   "nbconvert_exporter": "python",
   "pygments_lexer": "ipython3",
   "version": "3.7.4"
  }
 },
 "nbformat": 4,
 "nbformat_minor": 2
}
