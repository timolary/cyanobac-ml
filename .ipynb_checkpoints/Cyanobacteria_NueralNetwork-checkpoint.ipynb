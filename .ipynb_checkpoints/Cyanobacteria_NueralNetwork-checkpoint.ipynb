{
 "cells": [
  {
   "cell_type": "code",
   "execution_count": 1,
   "metadata": {},
   "outputs": [
    {
     "name": "stderr",
     "output_type": "stream",
     "text": [
      "/home/tim/.local/lib/python3.6/site-packages/tensorflow/python/framework/dtypes.py:516: FutureWarning: Passing (type, 1) or '1type' as a synonym of type is deprecated; in a future version of numpy, it will be understood as (type, (1,)) / '(1,)type'.\n",
      "  _np_qint8 = np.dtype([(\"qint8\", np.int8, 1)])\n",
      "/home/tim/.local/lib/python3.6/site-packages/tensorflow/python/framework/dtypes.py:517: FutureWarning: Passing (type, 1) or '1type' as a synonym of type is deprecated; in a future version of numpy, it will be understood as (type, (1,)) / '(1,)type'.\n",
      "  _np_quint8 = np.dtype([(\"quint8\", np.uint8, 1)])\n",
      "/home/tim/.local/lib/python3.6/site-packages/tensorflow/python/framework/dtypes.py:518: FutureWarning: Passing (type, 1) or '1type' as a synonym of type is deprecated; in a future version of numpy, it will be understood as (type, (1,)) / '(1,)type'.\n",
      "  _np_qint16 = np.dtype([(\"qint16\", np.int16, 1)])\n",
      "/home/tim/.local/lib/python3.6/site-packages/tensorflow/python/framework/dtypes.py:519: FutureWarning: Passing (type, 1) or '1type' as a synonym of type is deprecated; in a future version of numpy, it will be understood as (type, (1,)) / '(1,)type'.\n",
      "  _np_quint16 = np.dtype([(\"quint16\", np.uint16, 1)])\n",
      "/home/tim/.local/lib/python3.6/site-packages/tensorflow/python/framework/dtypes.py:520: FutureWarning: Passing (type, 1) or '1type' as a synonym of type is deprecated; in a future version of numpy, it will be understood as (type, (1,)) / '(1,)type'.\n",
      "  _np_qint32 = np.dtype([(\"qint32\", np.int32, 1)])\n",
      "/home/tim/.local/lib/python3.6/site-packages/tensorflow/python/framework/dtypes.py:525: FutureWarning: Passing (type, 1) or '1type' as a synonym of type is deprecated; in a future version of numpy, it will be understood as (type, (1,)) / '(1,)type'.\n",
      "  np_resource = np.dtype([(\"resource\", np.ubyte, 1)])\n",
      "/home/tim/.local/lib/python3.6/site-packages/tensorboard/compat/tensorflow_stub/dtypes.py:541: FutureWarning: Passing (type, 1) or '1type' as a synonym of type is deprecated; in a future version of numpy, it will be understood as (type, (1,)) / '(1,)type'.\n",
      "  _np_qint8 = np.dtype([(\"qint8\", np.int8, 1)])\n",
      "/home/tim/.local/lib/python3.6/site-packages/tensorboard/compat/tensorflow_stub/dtypes.py:542: FutureWarning: Passing (type, 1) or '1type' as a synonym of type is deprecated; in a future version of numpy, it will be understood as (type, (1,)) / '(1,)type'.\n",
      "  _np_quint8 = np.dtype([(\"quint8\", np.uint8, 1)])\n",
      "/home/tim/.local/lib/python3.6/site-packages/tensorboard/compat/tensorflow_stub/dtypes.py:543: FutureWarning: Passing (type, 1) or '1type' as a synonym of type is deprecated; in a future version of numpy, it will be understood as (type, (1,)) / '(1,)type'.\n",
      "  _np_qint16 = np.dtype([(\"qint16\", np.int16, 1)])\n",
      "/home/tim/.local/lib/python3.6/site-packages/tensorboard/compat/tensorflow_stub/dtypes.py:544: FutureWarning: Passing (type, 1) or '1type' as a synonym of type is deprecated; in a future version of numpy, it will be understood as (type, (1,)) / '(1,)type'.\n",
      "  _np_quint16 = np.dtype([(\"quint16\", np.uint16, 1)])\n",
      "/home/tim/.local/lib/python3.6/site-packages/tensorboard/compat/tensorflow_stub/dtypes.py:545: FutureWarning: Passing (type, 1) or '1type' as a synonym of type is deprecated; in a future version of numpy, it will be understood as (type, (1,)) / '(1,)type'.\n",
      "  _np_qint32 = np.dtype([(\"qint32\", np.int32, 1)])\n",
      "/home/tim/.local/lib/python3.6/site-packages/tensorboard/compat/tensorflow_stub/dtypes.py:550: FutureWarning: Passing (type, 1) or '1type' as a synonym of type is deprecated; in a future version of numpy, it will be understood as (type, (1,)) / '(1,)type'.\n",
      "  np_resource = np.dtype([(\"resource\", np.ubyte, 1)])\n"
     ]
    }
   ],
   "source": [
    "from data_manager import get_data, split_data\n",
    "import numpy as np\n",
    "import matplotlib.pyplot as plt\n",
    "from sklearn.model_selection import train_test_split\n",
    "from tensorflow.keras.utils import to_categorical\n",
    "import pandas as pd\n",
    "from sklearn.preprocessing import StandardScaler\n",
    "\n",
    "ds, ds1  = get_data()\n",
    "\n",
    "y = np.array(ds1['target'])\n",
    "X = np.array(ds1.drop(['target', 'NP_Cya_bio'], axis=1)) # the data\n",
    "\n",
    "X_sub, X_test, y_sub, y_test = split_data(X, y, 5)\n",
    "X_train, X_val, y_train, y_val = split_data(X_sub, y_sub, 3)\n",
    "def make_one_hot(*y):\n",
    "    res = []\n",
    "    for y_i in y:\n",
    "        y_1hot = to_categorical(y_i)\n",
    "        res.append(y_1hot)\n",
    "    return res\n",
    "\n",
    "def scale_data(*X):\n",
    "    res = []\n",
    "    scaler = StandardScaler()\n",
    "    for X_i in X:\n",
    "        scaled_X = scaler.fit_transform(X_i)\n",
    "        res.append(scaled_X)\n",
    "    return res\n",
    "\n",
    "def plot_epochs_vs_loss(hist):\n",
    "    training_results = hist.history\n",
    "    num_epochs = len(training_results['loss'])\n",
    "    epochs_pl = np.linspace(1, num_epochs, num_epochs, dtype=int)\n",
    "\n",
    "    plt.plot(epochs_pl, training_results['loss'], label='Training')\n",
    "    plt.plot(epochs_pl, training_results['val_loss'], label='Validation')\n",
    "    plt.xlabel('Epochs')\n",
    "    plt.ylabel('Loss')\n",
    "    plt.legend()\n",
    "    \n",
    "def print_metrics(scores):\n",
    "    metrics = ['Loss', 'True Positive', 'False Positive', 'True Negative',' False Negative', 'Precision','Recall','AUC']\n",
    "    for score, metric in zip(scores, metrics):\n",
    "        print(f'{metric}: {score}')\n",
    "    \n",
    "\n",
    "# y_train, y_val, y_test = make_one_hot(y_train, y_val, y_test) "
   ]
  },
  {
   "cell_type": "code",
   "execution_count": 22,
   "metadata": {},
   "outputs": [
    {
     "data": {
      "text/plain": [
       "(1298, 9)"
      ]
     },
     "execution_count": 22,
     "metadata": {},
     "output_type": "execute_result"
    }
   ],
   "source": [
    "X.shape"
   ]
  },
  {
   "cell_type": "markdown",
   "metadata": {},
   "source": [
    "## Lets just try to do a simple MLP to begin\n",
    "### 3 Layers, 10 20 5"
   ]
  },
  {
   "cell_type": "code",
   "execution_count": 2,
   "metadata": {},
   "outputs": [
    {
     "name": "stdout",
     "output_type": "stream",
     "text": [
      "WARNING:tensorflow:From /home/tim/.local/lib/python3.6/site-packages/tensorflow/python/ops/init_ops.py:1251: calling VarianceScaling.__init__ (from tensorflow.python.ops.init_ops) with dtype is deprecated and will be removed in a future version.\n",
      "Instructions for updating:\n",
      "Call initializer instance with the dtype argument instead of passing it to the constructor\n",
      "WARNING:tensorflow:From /home/tim/.local/lib/python3.6/site-packages/tensorflow/python/ops/nn_impl.py:180: add_dispatch_support.<locals>.wrapper (from tensorflow.python.ops.array_ops) is deprecated and will be removed in a future version.\n",
      "Instructions for updating:\n",
      "Use tf.where in 2.0, which has the same broadcast rule as np.where\n",
      "Test loss: 0.07483978984870977\n",
      "ROC AUC: 0.0\n"
     ]
    }
   ],
   "source": [
    "from tensorflow.keras import Sequential\n",
    "from tensorflow.keras.layers import Dense, Dropout\n",
    "from tensorflow.keras.optimizers import Adam\n",
    "from tensorflow import keras\n",
    "import tensorflow\n",
    "\n",
    "batch_size=32\n",
    "epochs=40\n",
    "learning_rate=0.001\n",
    "num_classes = len(np.unique(y_train))\n",
    "in_shape = X_train.shape[1:]\n",
    "metrics = [\n",
    "      tensorflow.keras.metrics.TruePositives(name='tp'),\n",
    "      tensorflow.keras.metrics.FalsePositives(name='fp'),\n",
    "      tensorflow.keras.metrics.TrueNegatives(name='tn'),\n",
    "      tensorflow.keras.metrics.FalseNegatives(name='fn'), \n",
    "      tensorflow.keras.metrics.Precision(name='precision'),\n",
    "      tensorflow.keras.metrics.Recall(name='recall'),\n",
    "      tensorflow.keras.metrics.AUC(name='auc'),\n",
    "]\n",
    "\n",
    "\n",
    "# loss_func = keras.losses.CategoricalCrossentropy()\n",
    "loss_func = keras.losses.BinaryCrossentropy()\n",
    "\n",
    "model = Sequential()\n",
    "model.add(Dense(30, activation='sigmoid', input_shape=in_shape, dtype=float))\n",
    "model.add(Dropout(0.2))\n",
    "model.add(Dense(40, activation='sigmoid'))\n",
    "model.add(Dropout(0.2))\n",
    "model.add(Dense(20, activation='sigmoid'))\n",
    "model.add(Dropout(0.2))\n",
    "model.add(Dense(1, activation='sigmoid'))\n",
    "\n",
    "opt = Adam(learning_rate=learning_rate)\n",
    "model.compile(loss=loss_func,\n",
    "             optimizer=opt,\n",
    "             metrics=metrics)\n",
    "hist = model.fit(X_train, y_train,\n",
    "                batch_size=batch_size,\n",
    "                epochs=epochs,\n",
    "                validation_data=(X_val, y_val), verbose=0)\n",
    "score = model.evaluate(X_test, y_test, verbose=0)\n",
    "\n",
    "print('Test loss:', score[0])\n",
    "print('ROC AUC:', score[1])\n"
   ]
  },
  {
   "cell_type": "code",
   "execution_count": 3,
   "metadata": {},
   "outputs": [
    {
     "name": "stdout",
     "output_type": "stream",
     "text": [
      "[0.07483978984870977, 0.0, 0.0, 282.0, 5.0, 0.0, 0.0, 0.7648937]\n"
     ]
    }
   ],
   "source": [
    "print(score)"
   ]
  },
  {
   "cell_type": "code",
   "execution_count": 25,
   "metadata": {},
   "outputs": [
    {
     "data": {
      "image/png": "[encoded data removed]",
      "text/plain": [
       "<Figure size 432x288 with 1 Axes>"
      ]
     },
     "metadata": {},
     "output_type": "display_data"
    }
   ],
   "source": [
    "import matplotlib.pyplot as plt\n",
    "from sklearn.metrics import confusion_matrix\n",
    "from tensorflow import print as tprint\n",
    "results = hist.history\n",
    "epochs_pl = np.linspace(1,epochs,epochs, dtype=int)\n",
    "plt.plot(epochs_pl, results['loss'])\n",
    "plt.plot(epochs_pl, results['val_loss'])\n",
    "predictions = model.predict(X_test)\n",
    "# conf = confusion_matrix(y_test[:,1], predictions[:,1])\n",
    "# predictions\n",
    "\n",
    "# well, this doesnt work like I thought it would...\n",
    "# whoops, we need more data\n",
    "\n"
   ]
  },
  {
   "cell_type": "code",
   "execution_count": 4,
   "metadata": {},
   "outputs": [],
   "source": [
    "import numpy as np \n",
    "\n",
    "from data_manager import get_data\n",
    "import numpy as np\n",
    "from sklearn.model_selection import train_test_split\n",
    "from tensorflow.keras.utils import to_categorical\n",
    "\n",
    "ds1, ds = get_data()\n",
    "y = np.array(ds['target'])\n",
    "X = np.array(ds.drop(['target', 'NP_Cya_bio'], axis=1)) # the data\n",
    "\n",
    "X_sub, X_test, y_sub, y_test = split_data(X, y, 4)\n",
    "X_train, X_val, y_train, y_val = split_data(X_sub, y_sub, 4)\n",
    "X_train, X_val, X_test = scale_data(X_train, X_val, X_test)"
   ]
  },
  {
   "cell_type": "code",
   "execution_count": 358,
   "metadata": {},
   "outputs": [],
   "source": [
    "import tensorflow as tf\n",
    "from tensorflow import keras\n",
    "\n",
    "neg, pos = np.bincount(ds['target'])\n",
    "epochs = 100\n",
    "batch_size = 512\n",
    "\n",
    "METRICS = [\n",
    "      keras.metrics.TruePositives(name='tp'),\n",
    "      keras.metrics.FalsePositives(name='fp'),\n",
    "      keras.metrics.TrueNegatives(name='tn'),\n",
    "      keras.metrics.FalseNegatives(name='fn'), \n",
    "      keras.metrics.Precision(name='precision'),\n",
    "      keras.metrics.Recall(name='recall'),\n",
    "      keras.metrics.AUC(name='auc', curve='PR'),\n",
    "]\n",
    "\n",
    "def make_model(metrics = METRICS, output_bias=None):\n",
    "    if output_bias is not None:\n",
    "        output_bias = tf.keras.initializers.Constant(output_bias)\n",
    "        model = keras.Sequential([\n",
    "            Dense(X_train.shape[-1], activation='relu',\n",
    "              input_shape=(X_train.shape[-1],)),\n",
    "            Dense(30, activation='relu'),\n",
    "            Dropout(0.5),\n",
    "            Dense(40, activation='relu'),\n",
    "            Dropout(0.5),\n",
    "            Dense(20, activation='relu'),\n",
    "            Dropout(0.5),\n",
    "            Dense(1, activation='sigmoid',\n",
    "                             bias_initializer=output_bias),\n",
    "        ])\n",
    "\n",
    "    model.compile(\n",
    "      optimizer=keras.optimizers.Adam(learning_rate=0.0005),\n",
    "      loss=keras.losses.BinaryCrossentropy(),\n",
    "      metrics=metrics)\n",
    "\n",
    "    return model\n",
    "\n",
    "epochs = 200\n",
    "batch_size = 512\n",
    "\n",
    "early_stopping = tf.keras.callbacks.EarlyStopping(\n",
    "    monitor='auc', \n",
    "    verbose=1,\n",
    "    patience=10,\n",
    "    mode='max',\n",
    "    restore_best_weights=True)\n",
    "\n",
    "initial_bias = np.log(pos/neg)\n",
    "model = make_model(output_bias = initial_bias)\n",
    "\n",
    "# results = model.evaluate(X_train, y_train, batch_size=batch_size, verbose=0)\n",
    "# print(\"Loss: {:0.4f}\".format(results[0]))"
   ]
  },
  {
   "cell_type": "code",
   "execution_count": 135,
   "metadata": {},
   "outputs": [
    {
     "name": "stdout",
     "output_type": "stream",
     "text": [
      "Loss: 0.042188086325484445\n",
      "True Positive: 0.0\n",
      "False Positive: 0.0\n",
      "True Negative: 283.0\n",
      " False Negative: 4.0\n",
      "Precision: 0.0\n",
      "Recall: 0.0\n",
      "AUC: 0.9739399552345276\n"
     ]
    },
    {
     "data": {
      "image/png": "[encoded data removed]",
      "text/plain": [
       "<Figure size 432x288 with 1 Axes>"
      ]
     },
     "metadata": {},
     "output_type": "display_data"
    }
   ],
   "source": [
    "hist = model.fit(X_train, y_train,\n",
    "                batch_size=batch_size,\n",
    "                epochs=epochs,\n",
    "#                 callbacks=[early_stopping],\n",
    "                validation_data=(X_val, y_val), verbose=0)\n",
    "plot_epochs_vs_loss(hist)\n",
    "score = model.evaluate(X_test, y_test, verbose=0)\n",
    "print_metrics(score)"
   ]
  },
  {
   "cell_type": "markdown",
   "metadata": {},
   "source": [
    "### Class weights\n",
    "In SVM, we used 'balanced' class weights to give the positive class more power."
   ]
  },
  {
   "cell_type": "code",
   "execution_count": 404,
   "metadata": {},
   "outputs": [],
   "source": [
    "\n",
    "def make_model(metrics = METRICS, output_bias=None):\n",
    "    if output_bias is not None:\n",
    "        output_bias = tf.keras.initializers.Constant(output_bias)\n",
    "        model = keras.Sequential([\n",
    "            Dense(9, activation='relu',\n",
    "              input_shape=(X_train.shape[-1],)),\n",
    "            Dense(12, activation='relu'),\n",
    "            Dropout(.2),\n",
    "            Dense(10, activation='relu'),\n",
    "            Dropout(0.2),\n",
    "#             Dense(12, activation='relu'),\n",
    "#             Dropout(0.4),\n",
    "            Dense(5, activation='relu'),\n",
    "            Dropout(0.2),\n",
    "            Dense(1, activation='sigmoid',\n",
    "                             bias_initializer=output_bias),\n",
    "        ])\n",
    "\n",
    "    model.compile(\n",
    "      optimizer=keras.optimizers.Adam(learning_rate=0.005),\n",
    "      loss=keras.losses.BinaryCrossentropy(),\n",
    "      metrics=metrics)\n",
    "\n",
    "    return model\n",
    "\n",
    "early_stopping = tf.keras.callbacks.EarlyStopping(\n",
    "    monitor='auc', \n",
    "    verbose=1,\n",
    "    patience=20,\n",
    "    mode='max',\n",
    "    restore_best_weights=True)\n",
    "\n"
   ]
  },
  {
   "cell_type": "code",
   "execution_count": 396,
   "metadata": {},
   "outputs": [
    {
     "name": "stdout",
     "output_type": "stream",
     "text": [
      "Restoring model weights from the end of the best epoch.\n",
      "Epoch 00027: early stopping\n",
      "Loss: 0.05548575957945\n",
      "True Positive: 1.0\n",
      "False Positive: 0.0\n",
      "True Negative: 283.0\n",
      " False Negative: 3.0\n",
      "Precision: 1.0\n",
      "Recall: 0.25\n",
      "AUC: 0.78121018409729\n"
     ]
    },
    {
     "data": {
      "image/png": "[encoded data removed]",
      "text/plain": [
       "<Figure size 432x288 with 1 Axes>"
      ]
     },
     "metadata": {},
     "output_type": "display_data"
    }
   ],
   "source": [
    "total = neg+pos\n",
    "weight_for_0 = (1 / neg)*(total)/2.0 \n",
    "weight_for_1 = (1 / pos)*(total)/2.0\n",
    "\n",
    "class_weight = {0: weight_for_0, 1: weight_for_1}\n",
    "\n",
    "model = make_model(output_bias = initial_bias)\n",
    "hist = model.fit(X_train, y_train,\n",
    "                batch_size=batch_size,\n",
    "                epochs=epochs,\n",
    "                validation_data=(X_val, y_val), \n",
    "                class_weight=class_weight,\n",
    "                callbacks=[early_stopping],\n",
    "                verbose=0)\n",
    "plot_epochs_vs_loss(hist)\n",
    "score = model.evaluate(X_test, y_test, verbose=0)\n",
    "print_metrics(score)\n"
   ]
  },
  {
   "cell_type": "code",
   "execution_count": null,
   "metadata": {},
   "outputs": [],
   "source": []
  },
  {
   "cell_type": "markdown",
   "metadata": {},
   "source": [
    "### Try oversampling the minority class \n",
    "#### (this is the best!)\n"
   ]
  },
  {
   "cell_type": "code",
   "execution_count": 402,
   "metadata": {},
   "outputs": [
    {
     "name": "stdout",
     "output_type": "stream",
     "text": [
      "Oversampled data shapes \n",
      "Features: (1692, 9)\n",
      "Labels: (1692,)\n"
     ]
    }
   ],
   "source": [
    "ds1, ds = get_data()\n",
    "y = np.array(ds['target'])\n",
    "X = np.array(ds.drop(['target', 'NP_Cya_bio'], axis=1)) # the data\n",
    "\n",
    "X_sub, X_test, y_sub, y_test = split_data(X, y, 4)\n",
    "X_train, X_val, y_train, y_val = split_data(X_sub, y_sub, 4, test_size=.25)\n",
    "X_train, X_val, X_test = scale_data(X_train, X_val, X_test)\n",
    "\n",
    "pos_idxs, neg_idxs = np.where(y_train == 1)[0], np.where(y_train == 0)[0]\n",
    "ids = np.arange(len(pos_idxs))\n",
    "choices = np.random.choice(ids, len(neg_idxs))\n",
    "over_sampled_pos_idxs = pos_idxs[choices]\n",
    "X_neg, y_neg = X_train[neg_idxs], y_train[neg_idxs]\n",
    "X_pos_over_sampled, y_pos_over_sampled = X_train[over_sampled_pos_idxs], y_train[over_sampled_pos_idxs]\n",
    "\n",
    "## now concatonate the original data with this data!\n",
    "X_train_oversampled = np.r_[X_neg,X_pos_over_sampled]\n",
    "y_train_oversampled = np.r_[y_neg, y_pos_over_sampled]\n",
    "\n",
    "print(f'Oversampled data shapes \\nFeatures: {X_train_oversampled.shape}\\nLabels: {y_train_oversampled.shape}')\n",
    "order = np.arange(len(X_train_oversampled))\n",
    "np.random.shuffle(order)\n",
    "X_train_oversampled, y_train_oversampled = X_train_oversampled[order], y_train_oversampled[order]"
   ]
  },
  {
   "cell_type": "code",
   "execution_count": 416,
   "metadata": {},
   "outputs": [],
   "source": [
    "# we dont want to initialize the bias here\n",
    "def make_model(metrics = METRICS):\n",
    "    model = keras.Sequential([\n",
    "        Dense(9, activation='relu',\n",
    "          input_shape=(X_train.shape[-1],)),\n",
    "        Dense(5, activation='relu'),\n",
    "        Dropout(.2),\n",
    "        Dense(8, activation='relu'),\n",
    "        Dropout(0.2),\n",
    "        Dense(3, activation='relu'),\n",
    "        Dropout(0.2),\n",
    "        Dense(1, activation='sigmoid'),\n",
    "    ])\n",
    "\n",
    "    model.compile(\n",
    "      optimizer=keras.optimizers.Adam(learning_rate=0.005),\n",
    "      loss=keras.losses.BinaryCrossentropy(),\n",
    "      metrics=metrics)\n",
    "\n",
    "    return model\n",
    "\n",
    "early_stopping = tf.keras.callbacks.EarlyStopping(\n",
    "    monitor='auc', \n",
    "    verbose=1,\n",
    "    patience=10,\n",
    "    mode='max',\n",
    "    restore_best_weights=True)"
   ]
  },
  {
   "cell_type": "code",
   "execution_count": 418,
   "metadata": {},
   "outputs": [
    {
     "name": "stdout",
     "output_type": "stream",
     "text": [
      "Restoring model weights from the end of the best epoch.\n",
      "Epoch 00045: early stopping\n",
      "Loss: 0.047758084822059794\n",
      "True Positive: 3.0\n",
      "False Positive: 7.0\n",
      "True Negative: 276.0\n",
      " False Negative: 1.0\n",
      "Precision: 0.30000001192092896\n",
      "Recall: 0.75\n",
      "AUC: 0.29490381479263306\n"
     ]
    },
    {
     "data": {
      "image/png": "[encoded data removed]",
      "text/plain": [
       "<Figure size 432x288 with 1 Axes>"
      ]
     },
     "metadata": {},
     "output_type": "display_data"
    }
   ],
   "source": [
    "\n",
    "model = make_model()\n",
    "    \n",
    "hist = model.fit(X_train_oversampled, y_train_oversampled,\n",
    "                batch_size=256,\n",
    "                    epochs=100,\n",
    "                validation_data=(X_val, y_val),\n",
    "                callbacks=[early_stopping],\n",
    "                verbose=0)\n",
    "\n",
    "\n",
    "plot_epochs_vs_loss(hist)\n",
    "score = model.evaluate(X_test, y_test, verbose=0)\n",
    "print_metrics(score)\n",
    "plt.savefig('figures/nn_loss.png',format='png')"
   ]
  },
  {
   "cell_type": "markdown",
   "metadata": {},
   "source": [
    "# Expanding Window Training"
   ]
  },
  {
   "cell_type": "code",
   "execution_count": 425,
   "metadata": {},
   "outputs": [
    {
     "name": "stdout",
     "output_type": "stream",
     "text": [
      "Oversampled data shapes \n",
      "Features: (308, 9)\n",
      "Labels: (308,)\n",
      "Restoring model weights from the end of the best epoch.\n",
      "Epoch 00011: early stopping\n",
      "Oversampled data shapes \n",
      "Features: (584, 9)\n",
      "Labels: (584,)\n",
      "Restoring model weights from the end of the best epoch.\n",
      "Epoch 00015: early stopping\n",
      "Oversampled data shapes \n",
      "Features: (896, 9)\n",
      "Labels: (896,)\n",
      "Restoring model weights from the end of the best epoch.\n",
      "Epoch 00027: early stopping\n",
      "Oversampled data shapes \n",
      "Features: (1226, 9)\n",
      "Labels: (1226,)\n",
      "Restoring model weights from the end of the best epoch.\n",
      "Epoch 00062: early stopping\n",
      "Oversampled data shapes \n",
      "Features: (1538, 9)\n",
      "Labels: (1538,)\n",
      "Restoring model weights from the end of the best epoch.\n",
      "Epoch 00014: early stopping\n",
      "Oversampled data shapes \n",
      "Features: (1820, 9)\n",
      "Labels: (1820,)\n",
      "Restoring model weights from the end of the best epoch.\n",
      "Epoch 00011: early stopping\n",
      "Oversampled data shapes \n",
      "Features: (2090, 9)\n",
      "Labels: (2090,)\n",
      "Restoring model weights from the end of the best epoch.\n",
      "Epoch 00011: early stopping\n",
      "Oversampled data shapes \n",
      "Features: (2350, 9)\n",
      "Labels: (2350,)\n",
      "Restoring model weights from the end of the best epoch.\n",
      "Epoch 00011: early stopping\n"
     ]
    }
   ],
   "source": [
    "from data_manager import get_data\n",
    "import numpy as np\n",
    "\n",
    "class ExpandingWindow:\n",
    "    \n",
    "    def __init__(self):\n",
    "        self.ds = self.__clean_data()    \n",
    "        self.sorted_ds = self.__sort_by_date()\n",
    "        self.X = np.array(self.sorted_ds.drop(['NP_Cya_bio', 'target','Date'], axis=1))\n",
    "        self.y = np.array(self.sorted_ds['target'])\n",
    "        self.years = self.__get_year()\n",
    "        self.hist = []\n",
    "        self.score = []\n",
    "        \n",
    "    def __sort_by_date(self):\n",
    "        return self.ds.sort_values('Date')\n",
    "    \n",
    "    def __get_year(self):\n",
    "        return pd.DatetimeIndex(self.sorted_ds['Date']).year\n",
    "    \n",
    "    def __clean_data(self):\n",
    "        ds1 = pd.read_csv('data/AllSites.csv')\n",
    "        threshold = np.where(ds1['NP_Cya_bio'] >= 4e8)\n",
    "        target = np.zeros(len(ds1['NP_Cya_bio']))\n",
    "        target[threshold] = 1\n",
    "        ds1['target'] = pd.Series(target)\n",
    "        ds1 = ds1.dropna(axis=0, subset = ['NP_Cya_bio'])\n",
    "        ds2 = ds1.drop(['Station', 'Stratum','Date','StationID','Time', 'Depth'], axis=1)\n",
    "        ds2['TP'] = ds1['TP'].astype(str).str.extract('([-+]?\\d*\\.\\d+|\\d+)').astype(float)\n",
    "        ds2['Cl'] = ds1['Cl'].astype(str).str.extract('([-+]?\\d*\\.\\d+|\\d+)').astype(float)\n",
    "        ds2['DP'] = ds1['DP'].astype(str).str.extract('([-+]?\\d*\\.\\d+|\\d+)').astype(float)\n",
    "        ds2['TN'] = ds1['TN'].astype(str).str.extract('([-+]?\\d*\\.\\d+|\\d+)').astype(float)\n",
    "        ds2['TempC'] = ds1['TempC'].astype(str).str.extract('([-+]?\\d*\\.\\d+|\\d+)').astype(float)\n",
    "        ds2['Chla'] = ds1['Chla'].astype(str).str.extract('([-+]?\\d*\\.\\d+|\\d+)').astype(float)\n",
    "        ds2['Secchi'] = ds1['Secchi'].astype(str).str.extract('([-+]?\\d*\\.\\d+|\\d+)').astype(float)\n",
    "        ds2['N:P'] = ((ds2['TN']*1e-3)/14.007)/((ds2['TP']*1e-6)/30.974) #for TN in ds2['TN'] for TP in ds2['TP']]\n",
    "        ds2['Month'] = ds1['Date'].astype(str).str.extract('(\\d+)').astype(int) # This is just the month number\n",
    "        for colname in ds2:\n",
    "            ds2[colname] = ds2[colname].fillna(ds2.groupby('Month')[colname].transform('mean'))\n",
    "        ds2['Date'] = pd.to_datetime(ds1.Date)\n",
    "        return ds2.dropna(axis=0, how='any')\n",
    "    \n",
    "    def set_model(self, model):\n",
    "        self.model = model\n",
    "    \n",
    "    def get_model(self):\n",
    "        return self.model\n",
    "    \n",
    "    def oversample(self, X_train, y_train):\n",
    "        pos_idxs, neg_idxs = np.where(y_train == 1)[0], np.where(y_train == 0)[0]\n",
    "        ids = np.arange(len(pos_idxs))\n",
    "        choices = np.random.choice(ids, len(neg_idxs))\n",
    "        over_sampled_pos_idxs = pos_idxs[choices]\n",
    "        X_neg, y_neg = X_train[neg_idxs], y_train[neg_idxs]\n",
    "        X_pos_over_sampled, y_pos_over_sampled = X_train[over_sampled_pos_idxs], y_train[over_sampled_pos_idxs]\n",
    "\n",
    "        ## now concatonate the original data with this data!\n",
    "        X_train_oversampled = np.r_[X_neg,X_pos_over_sampled]\n",
    "        y_train_oversampled = np.r_[y_neg, y_pos_over_sampled]\n",
    "\n",
    "        print(f'Oversampled data shapes \\nFeatures: {X_train_oversampled.shape}\\nLabels: {y_train_oversampled.shape}')\n",
    "        order = np.arange(len(X_train_oversampled))\n",
    "        np.random.shuffle(order)\n",
    "        X_train_oversampled, y_train_oversampled = X_train_oversampled[order], y_train_oversampled[order]\n",
    "        return X_train_oversampled, y_train_oversampled\n",
    "    \n",
    "    \n",
    "    def fit(self, **kw):\n",
    "        assert hasattr(self, 'model'), \"Please specify model using set_model()\"\n",
    "        return self.forcast_testing(**kw)\n",
    "\n",
    "    def forcast_testing(self, **kw):\n",
    "            current_year = 2006\n",
    "            done = False\n",
    "            while not done:\n",
    "                train_indices = np.where(self.years <= current_year)[0] # the years we are training on\n",
    "                test_indices = np.where(self.years == current_year+1)[0]\n",
    "                X_train, y_train = self.X[train_indices], self.y[train_indices]\n",
    "                X_train_oversampled, y_train_oversampled = self.oversample(X_train, y_train)\n",
    "                X_test, y_test = self.X[test_indices], self.y[test_indices]\n",
    "                self.hist.append(self.model.fit(X_train_oversampled, y_train_oversampled, **kw))\n",
    "\n",
    "                self.score.append(model.evaluate(X_test, y_test, verbose=0))\n",
    "#                 print_metrics(score)\n",
    "                current_year += 1\n",
    "                if current_year+1 == 2015:\n",
    "                    done = True\n",
    "    \n",
    "        \n",
    "        \n",
    "        \n",
    "inst = ExpandingWindow()\n",
    "inst.set_model(model)\n",
    "model_params = {'batch_size': batch_size,\n",
    "                'epochs': epochs,\n",
    "#                 'validation_data': (X_val, y_val),\n",
    "                'callbacks': [early_stopping],\n",
    "                'verbose': 0\n",
    "}\n",
    "inst.fit(**model_params)\n",
    "\n",
    "\n",
    "\n",
    "# inst.set_model(model)\n",
    "# hist = inst.fit(**stuff)\n",
    "\n",
    "# plot_epochs_vs_loss(hist)\n",
    "# score = model.evaluate(X_test, y_test, verbose=0)\n",
    "# print_metrics(score)"
   ]
  },
  {
   "cell_type": "code",
   "execution_count": 420,
   "metadata": {},
   "outputs": [
    {
     "name": "stdout",
     "output_type": "stream",
     "text": [
      "Loss: 0.4861554019693015\n",
      "True Positive: 0.0\n",
      "False Positive: 43.0\n",
      "True Negative: 95.0\n",
      " False Negative: 0.0\n",
      "Precision: 0.0\n",
      "Recall: 0.0\n",
      "AUC: 0.0\n",
      "\n",
      "\n",
      "Loss: 0.08568781237551741\n",
      "True Positive: 2.0\n",
      "False Positive: 9.0\n",
      "True Negative: 147.0\n",
      " False Negative: 0.0\n",
      "Precision: 0.1818181872367859\n",
      "Recall: 1.0\n",
      "AUC: 0.2222222238779068\n",
      "\n",
      "\n",
      "Loss: 0.06890963758483146\n",
      "True Positive: 0.0\n",
      "False Positive: 7.0\n",
      "True Negative: 158.0\n",
      " False Negative: 0.0\n",
      "Precision: 0.0\n",
      "Recall: 0.0\n",
      "AUC: 0.0\n",
      "\n",
      "\n",
      "Loss: 0.09643066617158744\n",
      "True Positive: 0.0\n",
      "False Positive: 9.0\n",
      "True Negative: 147.0\n",
      " False Negative: 0.0\n",
      "Precision: 0.0\n",
      "Recall: 0.0\n",
      "AUC: 0.0\n",
      "\n",
      "\n",
      "Loss: 5.176322727981541\n",
      "True Positive: 1.0\n",
      "False Positive: 11.0\n",
      "True Negative: 130.0\n",
      " False Negative: 2.0\n",
      "Precision: 0.0833333358168602\n",
      "Recall: 0.3333333432674408\n",
      "AUC: 0.050290629267692566\n",
      "\n",
      "\n",
      "Loss: 0.2596489927807082\n",
      "True Positive: 1.0\n",
      "False Positive: 20.0\n",
      "True Negative: 115.0\n",
      " False Negative: 1.0\n",
      "Precision: 0.0476190485060215\n",
      "Recall: 0.5\n",
      "AUC: 0.058608829975128174\n",
      "\n",
      "\n",
      "Loss: 0.2831090482554041\n",
      "True Positive: 3.0\n",
      "False Positive: 23.0\n",
      "True Negative: 107.0\n",
      " False Negative: 0.0\n",
      "Precision: 0.11538461595773697\n",
      "Recall: 1.0\n",
      "AUC: 0.11999999731779099\n",
      "\n",
      "\n",
      "Loss: 0.3518399332476928\n",
      "True Positive: 3.0\n",
      "False Positive: 24.0\n",
      "True Negative: 86.0\n",
      " False Negative: 0.0\n",
      "Precision: 0.1111111119389534\n",
      "Recall: 1.0\n",
      "AUC: 0.1111111119389534\n",
      "\n",
      "\n"
     ]
    }
   ],
   "source": [
    "scores = inst.score\n",
    "for score in scores:\n",
    "    print_metrics(score)\n",
    "    print('\\n')\n"
   ]
  },
  {
   "cell_type": "markdown",
   "metadata": {},
   "source": [
    "###  This would be good to put in the presentation"
   ]
  },
  {
   "cell_type": "code",
   "execution_count": 466,
   "metadata": {},
   "outputs": [
    {
     "data": {
      "text/plain": [
       "<matplotlib.legend.Legend at 0x7fa07b289fd0>"
      ]
     },
     "execution_count": 466,
     "metadata": {},
     "output_type": "execute_result"
    },
    {
     "data": {
      "image/png": "[encoded data removed]",
      "text/plain": [
       "<Figure size 720x432 with 1 Axes>"
      ]
     },
     "metadata": {},
     "output_type": "display_data"
    }
   ],
   "source": [
    "import matplotlib.pyplot as plt\n",
    "import matplotlib \n",
    "font = {\n",
    "#     'family' : 'normal',\n",
    "        'weight' : 'bold',\n",
    "        'size'   : 14}\n",
    "\n",
    "matplotlib.rc('font', **font)\n",
    "%config InlineBackend.image_format='svg'\n",
    "line_d = 4e8*np.ones(len(inst.sorted_ds['Date']))\n",
    "plt.figure(figsize=(10,6))\n",
    "plt.plot(inst.sorted_ds['Date'], inst.sorted_ds['NP_Cya_bio'], label=r'Cyanobacteria Level ($μm^3/L$)', c='#2a3990')\n",
    "plt.plot(inst.sorted_ds['Date'], line_d, ls='--', label='Threshold')\n",
    "plt.xlabel('Year',fontsize=16)\n",
    "# plt.ylabel(r'Cyanobacteria Level ($μm^3/L$)')\n",
    "plt.legend()\n"
   ]
  }
 ],
 "metadata": {
  "kernelspec": {
   "display_name": "Python 3",
   "language": "python",
   "name": "python3"
  },
  "language_info": {
   "codemirror_mode": {
    "name": "ipython",
    "version": 3
   },
   "file_extension": ".py",
   "mimetype": "text/x-python",
   "name": "python",
   "nbconvert_exporter": "python",
   "pygments_lexer": "ipython3",
   "version": "3.6.8"
  }
 },
 "nbformat": 4,
 "nbformat_minor": 2
}
