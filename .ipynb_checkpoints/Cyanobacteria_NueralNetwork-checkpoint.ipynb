{
 "cells": [
  {
   "cell_type": "code",
   "execution_count": 1,
   "metadata": {},
   "outputs": [
    {
     "name": "stderr",
     "output_type": "stream",
     "text": [
      "/home/tim/.local/lib/python3.6/site-packages/tensorflow/python/framework/dtypes.py:516: FutureWarning: Passing (type, 1) or '1type' as a synonym of type is deprecated; in a future version of numpy, it will be understood as (type, (1,)) / '(1,)type'.\n",
      "  _np_qint8 = np.dtype([(\"qint8\", np.int8, 1)])\n",
      "/home/tim/.local/lib/python3.6/site-packages/tensorflow/python/framework/dtypes.py:517: FutureWarning: Passing (type, 1) or '1type' as a synonym of type is deprecated; in a future version of numpy, it will be understood as (type, (1,)) / '(1,)type'.\n",
      "  _np_quint8 = np.dtype([(\"quint8\", np.uint8, 1)])\n",
      "/home/tim/.local/lib/python3.6/site-packages/tensorflow/python/framework/dtypes.py:518: FutureWarning: Passing (type, 1) or '1type' as a synonym of type is deprecated; in a future version of numpy, it will be understood as (type, (1,)) / '(1,)type'.\n",
      "  _np_qint16 = np.dtype([(\"qint16\", np.int16, 1)])\n",
      "/home/tim/.local/lib/python3.6/site-packages/tensorflow/python/framework/dtypes.py:519: FutureWarning: Passing (type, 1) or '1type' as a synonym of type is deprecated; in a future version of numpy, it will be understood as (type, (1,)) / '(1,)type'.\n",
      "  _np_quint16 = np.dtype([(\"quint16\", np.uint16, 1)])\n",
      "/home/tim/.local/lib/python3.6/site-packages/tensorflow/python/framework/dtypes.py:520: FutureWarning: Passing (type, 1) or '1type' as a synonym of type is deprecated; in a future version of numpy, it will be understood as (type, (1,)) / '(1,)type'.\n",
      "  _np_qint32 = np.dtype([(\"qint32\", np.int32, 1)])\n",
      "/home/tim/.local/lib/python3.6/site-packages/tensorflow/python/framework/dtypes.py:525: FutureWarning: Passing (type, 1) or '1type' as a synonym of type is deprecated; in a future version of numpy, it will be understood as (type, (1,)) / '(1,)type'.\n",
      "  np_resource = np.dtype([(\"resource\", np.ubyte, 1)])\n",
      "/home/tim/.local/lib/python3.6/site-packages/tensorboard/compat/tensorflow_stub/dtypes.py:541: FutureWarning: Passing (type, 1) or '1type' as a synonym of type is deprecated; in a future version of numpy, it will be understood as (type, (1,)) / '(1,)type'.\n",
      "  _np_qint8 = np.dtype([(\"qint8\", np.int8, 1)])\n",
      "/home/tim/.local/lib/python3.6/site-packages/tensorboard/compat/tensorflow_stub/dtypes.py:542: FutureWarning: Passing (type, 1) or '1type' as a synonym of type is deprecated; in a future version of numpy, it will be understood as (type, (1,)) / '(1,)type'.\n",
      "  _np_quint8 = np.dtype([(\"quint8\", np.uint8, 1)])\n",
      "/home/tim/.local/lib/python3.6/site-packages/tensorboard/compat/tensorflow_stub/dtypes.py:543: FutureWarning: Passing (type, 1) or '1type' as a synonym of type is deprecated; in a future version of numpy, it will be understood as (type, (1,)) / '(1,)type'.\n",
      "  _np_qint16 = np.dtype([(\"qint16\", np.int16, 1)])\n",
      "/home/tim/.local/lib/python3.6/site-packages/tensorboard/compat/tensorflow_stub/dtypes.py:544: FutureWarning: Passing (type, 1) or '1type' as a synonym of type is deprecated; in a future version of numpy, it will be understood as (type, (1,)) / '(1,)type'.\n",
      "  _np_quint16 = np.dtype([(\"quint16\", np.uint16, 1)])\n",
      "/home/tim/.local/lib/python3.6/site-packages/tensorboard/compat/tensorflow_stub/dtypes.py:545: FutureWarning: Passing (type, 1) or '1type' as a synonym of type is deprecated; in a future version of numpy, it will be understood as (type, (1,)) / '(1,)type'.\n",
      "  _np_qint32 = np.dtype([(\"qint32\", np.int32, 1)])\n",
      "/home/tim/.local/lib/python3.6/site-packages/tensorboard/compat/tensorflow_stub/dtypes.py:550: FutureWarning: Passing (type, 1) or '1type' as a synonym of type is deprecated; in a future version of numpy, it will be understood as (type, (1,)) / '(1,)type'.\n",
      "  np_resource = np.dtype([(\"resource\", np.ubyte, 1)])\n"
     ]
    }
   ],
   "source": [
    "from data_manager import get_data, split_data\n",
    "import numpy as np\n",
    "from sklearn.model_selection import train_test_split\n",
    "from tensorflow.keras.utils import to_categorical\n",
    "import pandas as pd\n",
    "\n",
    "ds = get_data()\n",
    "y = np.array(ds['target'])\n",
    "X = np.array(ds.drop(['target'], axis=1)) # the data\n",
    "\n",
    "X_sub, X_test, y_sub, y_test = split_data(X, y, 5)\n",
    "X_train, X_val, y_train, y_val = split_data(X_sub, y_sub, 3)\n",
    "def make_one_hot(*y):\n",
    "    res = []\n",
    "    for y_i in y:\n",
    "        y_1hot = to_categorical(y_i)\n",
    "        res.append(y_1hot)\n",
    "    return res\n",
    "\n",
    "def \n",
    "\n",
    "def plot_epochs_vs_loss(hist):\n",
    "    training_results = hist.history\n",
    "    num_epochs = len(training_results['loss'])\n",
    "    epochs_pl = np.linspace(1, num_epochs, num_epochs, dtype=int)\n",
    "\n",
    "    plt.plot(epochs_pl, training_results['loss'], label='Training')\n",
    "    plt.plot(epochs_pl, training_results['val_loss'], label='Validation')\n",
    "    plt.xlabel('Epochs')\n",
    "    plt.ylabel('Loss')\n",
    "    plt.legend()\n",
    "\n",
    "# y_train, y_val, y_test = make_one_hot(y_train, y_val, y_test) "
   ]
  },
  {
   "cell_type": "code",
   "execution_count": 2,
   "metadata": {},
   "outputs": [
    {
     "name": "stdout",
     "output_type": "stream",
     "text": [
      "20\n"
     ]
    },
    {
     "data": {
      "text/plain": [
       "(array([ 96, 148, 185, 275, 383, 387, 414, 586, 600, 831, 834]),)"
      ]
     },
     "execution_count": 2,
     "metadata": {},
     "output_type": "execute_result"
    }
   ],
   "source": []
  },
  {
   "cell_type": "markdown",
   "metadata": {},
   "source": [
    "## Lets just try to do a simple MLP to begin\n",
    "### 3 Layers, 10 20 5"
   ]
  },
  {
   "cell_type": "code",
   "execution_count": 3,
   "metadata": {},
   "outputs": [
    {
     "name": "stdout",
     "output_type": "stream",
     "text": [
      "WARNING:tensorflow:From /home/tim/.local/lib/python3.6/site-packages/tensorflow/python/ops/init_ops.py:1251: calling VarianceScaling.__init__ (from tensorflow.python.ops.init_ops) with dtype is deprecated and will be removed in a future version.\n",
      "Instructions for updating:\n",
      "Call initializer instance with the dtype argument instead of passing it to the constructor\n",
      "WARNING:tensorflow:From /home/tim/.local/lib/python3.6/site-packages/tensorflow/python/ops/nn_impl.py:180: add_dispatch_support.<locals>.wrapper (from tensorflow.python.ops.array_ops) is deprecated and will be removed in a future version.\n",
      "Instructions for updating:\n",
      "Use tf.where in 2.0, which has the same broadcast rule as np.where\n",
      "Train on 915 samples, validate on 229 samples\n",
      "Epoch 1/40\n",
      "915/915 [==============================] - 1s 620us/sample - loss: 0.5036 - tp: 3.0000 - fp: 146.0000 - tn: 758.0000 - fn: 8.0000 - accuracy: 0.8317 - precision: 0.0201 - recall: 0.2727 - auc: 0.4558 - val_loss: 0.3004 - val_tp: 0.0000e+00 - val_fp: 0.0000e+00 - val_tn: 225.0000 - val_fn: 4.0000 - val_accuracy: 0.9825 - val_precision: 0.0000e+00 - val_recall: 0.0000e+00 - val_auc: 0.1278\n",
      "Epoch 2/40\n",
      "915/915 [==============================] - 0s 98us/sample - loss: 0.2363 - tp: 0.0000e+00 - fp: 0.0000e+00 - tn: 904.0000 - fn: 11.0000 - accuracy: 0.9880 - precision: 0.0000e+00 - recall: 0.0000e+00 - auc: 0.3605 - val_loss: 0.1647 - val_tp: 0.0000e+00 - val_fp: 0.0000e+00 - val_tn: 225.0000 - val_fn: 4.0000 - val_accuracy: 0.9825 - val_precision: 0.0000e+00 - val_recall: 0.0000e+00 - val_auc: 0.1533\n",
      "Epoch 3/40\n",
      "915/915 [==============================] - 0s 121us/sample - loss: 0.1446 - tp: 0.0000e+00 - fp: 1.0000 - tn: 903.0000 - fn: 11.0000 - accuracy: 0.9869 - precision: 0.0000e+00 - recall: 0.0000e+00 - auc: 0.4292 - val_loss: 0.1205 - val_tp: 0.0000e+00 - val_fp: 0.0000e+00 - val_tn: 225.0000 - val_fn: 4.0000 - val_accuracy: 0.9825 - val_precision: 0.0000e+00 - val_recall: 0.0000e+00 - val_auc: 0.4867\n",
      "Epoch 4/40\n",
      "915/915 [==============================] - 0s 123us/sample - loss: 0.1053 - tp: 0.0000e+00 - fp: 0.0000e+00 - tn: 904.0000 - fn: 11.0000 - accuracy: 0.9880 - precision: 0.0000e+00 - recall: 0.0000e+00 - auc: 0.7298 - val_loss: 0.1041 - val_tp: 0.0000e+00 - val_fp: 0.0000e+00 - val_tn: 225.0000 - val_fn: 4.0000 - val_accuracy: 0.9825 - val_precision: 0.0000e+00 - val_recall: 0.0000e+00 - val_auc: 0.5956\n",
      "Epoch 5/40\n",
      "915/915 [==============================] - 0s 132us/sample - loss: 0.0929 - tp: 0.0000e+00 - fp: 0.0000e+00 - tn: 904.0000 - fn: 11.0000 - accuracy: 0.9880 - precision: 0.0000e+00 - recall: 0.0000e+00 - auc: 0.4851 - val_loss: 0.0966 - val_tp: 0.0000e+00 - val_fp: 0.0000e+00 - val_tn: 225.0000 - val_fn: 4.0000 - val_accuracy: 0.9825 - val_precision: 0.0000e+00 - val_recall: 0.0000e+00 - val_auc: 0.5950\n",
      "Epoch 6/40\n",
      "915/915 [==============================] - 0s 114us/sample - loss: 0.0835 - tp: 0.0000e+00 - fp: 0.0000e+00 - tn: 904.0000 - fn: 11.0000 - accuracy: 0.9880 - precision: 0.0000e+00 - recall: 0.0000e+00 - auc: 0.6080 - val_loss: 0.0927 - val_tp: 0.0000e+00 - val_fp: 0.0000e+00 - val_tn: 225.0000 - val_fn: 4.0000 - val_accuracy: 0.9825 - val_precision: 0.0000e+00 - val_recall: 0.0000e+00 - val_auc: 0.4911\n",
      "Epoch 7/40\n",
      "915/915 [==============================] - 0s 154us/sample - loss: 0.0788 - tp: 0.0000e+00 - fp: 0.0000e+00 - tn: 904.0000 - fn: 11.0000 - accuracy: 0.9880 - precision: 0.0000e+00 - recall: 0.0000e+00 - auc: 0.5610 - val_loss: 0.0904 - val_tp: 0.0000e+00 - val_fp: 0.0000e+00 - val_tn: 225.0000 - val_fn: 4.0000 - val_accuracy: 0.9825 - val_precision: 0.0000e+00 - val_recall: 0.0000e+00 - val_auc: 0.4956\n",
      "Epoch 8/40\n",
      "915/915 [==============================] - 0s 170us/sample - loss: 0.0774 - tp: 0.0000e+00 - fp: 0.0000e+00 - tn: 904.0000 - fn: 11.0000 - accuracy: 0.9880 - precision: 0.0000e+00 - recall: 0.0000e+00 - auc: 0.4839 - val_loss: 0.0891 - val_tp: 0.0000e+00 - val_fp: 0.0000e+00 - val_tn: 225.0000 - val_fn: 4.0000 - val_accuracy: 0.9825 - val_precision: 0.0000e+00 - val_recall: 0.0000e+00 - val_auc: 0.6639\n",
      "Epoch 9/40\n",
      "915/915 [==============================] - 0s 171us/sample - loss: 0.0748 - tp: 0.0000e+00 - fp: 0.0000e+00 - tn: 904.0000 - fn: 11.0000 - accuracy: 0.9880 - precision: 0.0000e+00 - recall: 0.0000e+00 - auc: 0.4787 - val_loss: 0.0884 - val_tp: 0.0000e+00 - val_fp: 0.0000e+00 - val_tn: 225.0000 - val_fn: 4.0000 - val_accuracy: 0.9825 - val_precision: 0.0000e+00 - val_recall: 0.0000e+00 - val_auc: 0.5000\n",
      "Epoch 10/40\n",
      "915/915 [==============================] - 0s 155us/sample - loss: 0.0750 - tp: 0.0000e+00 - fp: 0.0000e+00 - tn: 904.0000 - fn: 11.0000 - accuracy: 0.9880 - precision: 0.0000e+00 - recall: 0.0000e+00 - auc: 0.4994 - val_loss: 0.0880 - val_tp: 0.0000e+00 - val_fp: 0.0000e+00 - val_tn: 225.0000 - val_fn: 4.0000 - val_accuracy: 0.9825 - val_precision: 0.0000e+00 - val_recall: 0.0000e+00 - val_auc: 0.5000\n",
      "Epoch 11/40\n",
      "915/915 [==============================] - 0s 171us/sample - loss: 0.0731 - tp: 0.0000e+00 - fp: 0.0000e+00 - tn: 904.0000 - fn: 11.0000 - accuracy: 0.9880 - precision: 0.0000e+00 - recall: 0.0000e+00 - auc: 0.4406 - val_loss: 0.0878 - val_tp: 0.0000e+00 - val_fp: 0.0000e+00 - val_tn: 225.0000 - val_fn: 4.0000 - val_accuracy: 0.9825 - val_precision: 0.0000e+00 - val_recall: 0.0000e+00 - val_auc: 0.4978\n",
      "Epoch 12/40\n",
      "915/915 [==============================] - 0s 146us/sample - loss: 0.0722 - tp: 0.0000e+00 - fp: 0.0000e+00 - tn: 904.0000 - fn: 11.0000 - accuracy: 0.9880 - precision: 0.0000e+00 - recall: 0.0000e+00 - auc: 0.4963 - val_loss: 0.0877 - val_tp: 0.0000e+00 - val_fp: 0.0000e+00 - val_tn: 225.0000 - val_fn: 4.0000 - val_accuracy: 0.9825 - val_precision: 0.0000e+00 - val_recall: 0.0000e+00 - val_auc: 0.5000\n",
      "Epoch 13/40\n",
      "915/915 [==============================] - 0s 174us/sample - loss: 0.0712 - tp: 0.0000e+00 - fp: 0.0000e+00 - tn: 904.0000 - fn: 11.0000 - accuracy: 0.9880 - precision: 0.0000e+00 - recall: 0.0000e+00 - auc: 0.5309 - val_loss: 0.0876 - val_tp: 0.0000e+00 - val_fp: 0.0000e+00 - val_tn: 225.0000 - val_fn: 4.0000 - val_accuracy: 0.9825 - val_precision: 0.0000e+00 - val_recall: 0.0000e+00 - val_auc: 0.5000\n",
      "Epoch 14/40\n",
      "915/915 [==============================] - 0s 168us/sample - loss: 0.0695 - tp: 0.0000e+00 - fp: 0.0000e+00 - tn: 904.0000 - fn: 11.0000 - accuracy: 0.9880 - precision: 0.0000e+00 - recall: 0.0000e+00 - auc: 0.5125 - val_loss: 0.0876 - val_tp: 0.0000e+00 - val_fp: 0.0000e+00 - val_tn: 225.0000 - val_fn: 4.0000 - val_accuracy: 0.9825 - val_precision: 0.0000e+00 - val_recall: 0.0000e+00 - val_auc: 0.5000\n",
      "Epoch 15/40\n",
      "915/915 [==============================] - 0s 166us/sample - loss: 0.0682 - tp: 0.0000e+00 - fp: 0.0000e+00 - tn: 904.0000 - fn: 11.0000 - accuracy: 0.9880 - precision: 0.0000e+00 - recall: 0.0000e+00 - auc: 0.6289 - val_loss: 0.0876 - val_tp: 0.0000e+00 - val_fp: 0.0000e+00 - val_tn: 225.0000 - val_fn: 4.0000 - val_accuracy: 0.9825 - val_precision: 0.0000e+00 - val_recall: 0.0000e+00 - val_auc: 0.5000\n",
      "Epoch 16/40\n",
      "915/915 [==============================] - 0s 147us/sample - loss: 0.0663 - tp: 0.0000e+00 - fp: 0.0000e+00 - tn: 904.0000 - fn: 11.0000 - accuracy: 0.9880 - precision: 0.0000e+00 - recall: 0.0000e+00 - auc: 0.6276 - val_loss: 0.0876 - val_tp: 0.0000e+00 - val_fp: 0.0000e+00 - val_tn: 225.0000 - val_fn: 4.0000 - val_accuracy: 0.9825 - val_precision: 0.0000e+00 - val_recall: 0.0000e+00 - val_auc: 0.8283\n",
      "Epoch 17/40\n",
      "915/915 [==============================] - 0s 120us/sample - loss: 0.0696 - tp: 0.0000e+00 - fp: 0.0000e+00 - tn: 904.0000 - fn: 11.0000 - accuracy: 0.9880 - precision: 0.0000e+00 - recall: 0.0000e+00 - auc: 0.5217 - val_loss: 0.0878 - val_tp: 0.0000e+00 - val_fp: 0.0000e+00 - val_tn: 225.0000 - val_fn: 4.0000 - val_accuracy: 0.9825 - val_precision: 0.0000e+00 - val_recall: 0.0000e+00 - val_auc: 0.5000\n",
      "Epoch 18/40\n",
      "915/915 [==============================] - 0s 101us/sample - loss: 0.0717 - tp: 0.0000e+00 - fp: 0.0000e+00 - tn: 904.0000 - fn: 11.0000 - accuracy: 0.9880 - precision: 0.0000e+00 - recall: 0.0000e+00 - auc: 0.4071 - val_loss: 0.0877 - val_tp: 0.0000e+00 - val_fp: 0.0000e+00 - val_tn: 225.0000 - val_fn: 4.0000 - val_accuracy: 0.9825 - val_precision: 0.0000e+00 - val_recall: 0.0000e+00 - val_auc: 0.5000\n",
      "Epoch 19/40\n",
      "915/915 [==============================] - 0s 138us/sample - loss: 0.0685 - tp: 0.0000e+00 - fp: 0.0000e+00 - tn: 904.0000 - fn: 11.0000 - accuracy: 0.9880 - precision: 0.0000e+00 - recall: 0.0000e+00 - auc: 0.5163 - val_loss: 0.0878 - val_tp: 0.0000e+00 - val_fp: 0.0000e+00 - val_tn: 225.0000 - val_fn: 4.0000 - val_accuracy: 0.9825 - val_precision: 0.0000e+00 - val_recall: 0.0000e+00 - val_auc: 0.5000\n",
      "Epoch 20/40\n",
      "915/915 [==============================] - 0s 132us/sample - loss: 0.0686 - tp: 0.0000e+00 - fp: 0.0000e+00 - tn: 904.0000 - fn: 11.0000 - accuracy: 0.9880 - precision: 0.0000e+00 - recall: 0.0000e+00 - auc: 0.5263 - val_loss: 0.0879 - val_tp: 0.0000e+00 - val_fp: 0.0000e+00 - val_tn: 225.0000 - val_fn: 4.0000 - val_accuracy: 0.9825 - val_precision: 0.0000e+00 - val_recall: 0.0000e+00 - val_auc: 0.5000\n",
      "Epoch 21/40\n",
      "915/915 [==============================] - 0s 144us/sample - loss: 0.0703 - tp: 0.0000e+00 - fp: 0.0000e+00 - tn: 904.0000 - fn: 11.0000 - accuracy: 0.9880 - precision: 0.0000e+00 - recall: 0.0000e+00 - auc: 0.5056 - val_loss: 0.0879 - val_tp: 0.0000e+00 - val_fp: 0.0000e+00 - val_tn: 225.0000 - val_fn: 4.0000 - val_accuracy: 0.9825 - val_precision: 0.0000e+00 - val_recall: 0.0000e+00 - val_auc: 0.5000\n",
      "Epoch 22/40\n",
      "915/915 [==============================] - 0s 120us/sample - loss: 0.0660 - tp: 0.0000e+00 - fp: 0.0000e+00 - tn: 904.0000 - fn: 11.0000 - accuracy: 0.9880 - precision: 0.0000e+00 - recall: 0.0000e+00 - auc: 0.6358 - val_loss: 0.0881 - val_tp: 0.0000e+00 - val_fp: 0.0000e+00 - val_tn: 225.0000 - val_fn: 4.0000 - val_accuracy: 0.9825 - val_precision: 0.0000e+00 - val_recall: 0.0000e+00 - val_auc: 0.5000\n",
      "Epoch 23/40\n",
      "915/915 [==============================] - 0s 134us/sample - loss: 0.0675 - tp: 0.0000e+00 - fp: 0.0000e+00 - tn: 904.0000 - fn: 11.0000 - accuracy: 0.9880 - precision: 0.0000e+00 - recall: 0.0000e+00 - auc: 0.5697 - val_loss: 0.0882 - val_tp: 0.0000e+00 - val_fp: 0.0000e+00 - val_tn: 225.0000 - val_fn: 4.0000 - val_accuracy: 0.9825 - val_precision: 0.0000e+00 - val_recall: 0.0000e+00 - val_auc: 0.5000\n",
      "Epoch 24/40\n",
      "915/915 [==============================] - 0s 113us/sample - loss: 0.0665 - tp: 0.0000e+00 - fp: 0.0000e+00 - tn: 904.0000 - fn: 11.0000 - accuracy: 0.9880 - precision: 0.0000e+00 - recall: 0.0000e+00 - auc: 0.6156 - val_loss: 0.0881 - val_tp: 0.0000e+00 - val_fp: 0.0000e+00 - val_tn: 225.0000 - val_fn: 4.0000 - val_accuracy: 0.9825 - val_precision: 0.0000e+00 - val_recall: 0.0000e+00 - val_auc: 0.5000\n",
      "Epoch 25/40\n",
      "915/915 [==============================] - 0s 87us/sample - loss: 0.0689 - tp: 0.0000e+00 - fp: 0.0000e+00 - tn: 904.0000 - fn: 11.0000 - accuracy: 0.9880 - precision: 0.0000e+00 - recall: 0.0000e+00 - auc: 0.5063 - val_loss: 0.0880 - val_tp: 0.0000e+00 - val_fp: 0.0000e+00 - val_tn: 225.0000 - val_fn: 4.0000 - val_accuracy: 0.9825 - val_precision: 0.0000e+00 - val_recall: 0.0000e+00 - val_auc: 0.5000\n",
      "Epoch 26/40\n",
      "915/915 [==============================] - 0s 111us/sample - loss: 0.0711 - tp: 0.0000e+00 - fp: 0.0000e+00 - tn: 904.0000 - fn: 11.0000 - accuracy: 0.9880 - precision: 0.0000e+00 - recall: 0.0000e+00 - auc: 0.4603 - val_loss: 0.0881 - val_tp: 0.0000e+00 - val_fp: 0.0000e+00 - val_tn: 225.0000 - val_fn: 4.0000 - val_accuracy: 0.9825 - val_precision: 0.0000e+00 - val_recall: 0.0000e+00 - val_auc: 0.5000\n",
      "Epoch 27/40\n",
      "915/915 [==============================] - 0s 125us/sample - loss: 0.0686 - tp: 0.0000e+00 - fp: 0.0000e+00 - tn: 904.0000 - fn: 11.0000 - accuracy: 0.9880 - precision: 0.0000e+00 - recall: 0.0000e+00 - auc: 0.5751 - val_loss: 0.0879 - val_tp: 0.0000e+00 - val_fp: 0.0000e+00 - val_tn: 225.0000 - val_fn: 4.0000 - val_accuracy: 0.9825 - val_precision: 0.0000e+00 - val_recall: 0.0000e+00 - val_auc: 0.5000\n",
      "Epoch 28/40\n",
      "915/915 [==============================] - 0s 159us/sample - loss: 0.0666 - tp: 0.0000e+00 - fp: 0.0000e+00 - tn: 904.0000 - fn: 11.0000 - accuracy: 0.9880 - precision: 0.0000e+00 - recall: 0.0000e+00 - auc: 0.5317 - val_loss: 0.0880 - val_tp: 0.0000e+00 - val_fp: 0.0000e+00 - val_tn: 225.0000 - val_fn: 4.0000 - val_accuracy: 0.9825 - val_precision: 0.0000e+00 - val_recall: 0.0000e+00 - val_auc: 0.5000\n",
      "Epoch 29/40\n",
      "915/915 [==============================] - 0s 111us/sample - loss: 0.0654 - tp: 0.0000e+00 - fp: 0.0000e+00 - tn: 904.0000 - fn: 11.0000 - accuracy: 0.9880 - precision: 0.0000e+00 - recall: 0.0000e+00 - auc: 0.6185 - val_loss: 0.0879 - val_tp: 0.0000e+00 - val_fp: 0.0000e+00 - val_tn: 225.0000 - val_fn: 4.0000 - val_accuracy: 0.9825 - val_precision: 0.0000e+00 - val_recall: 0.0000e+00 - val_auc: 0.5000\n",
      "Epoch 30/40\n",
      "915/915 [==============================] - 0s 126us/sample - loss: 0.0658 - tp: 0.0000e+00 - fp: 0.0000e+00 - tn: 904.0000 - fn: 11.0000 - accuracy: 0.9880 - precision: 0.0000e+00 - recall: 0.0000e+00 - auc: 0.5688 - val_loss: 0.0878 - val_tp: 0.0000e+00 - val_fp: 0.0000e+00 - val_tn: 225.0000 - val_fn: 4.0000 - val_accuracy: 0.9825 - val_precision: 0.0000e+00 - val_recall: 0.0000e+00 - val_auc: 0.5000\n",
      "Epoch 31/40\n",
      "915/915 [==============================] - 0s 108us/sample - loss: 0.0653 - tp: 0.0000e+00 - fp: 0.0000e+00 - tn: 904.0000 - fn: 11.0000 - accuracy: 0.9880 - precision: 0.0000e+00 - recall: 0.0000e+00 - auc: 0.6001 - val_loss: 0.0876 - val_tp: 0.0000e+00 - val_fp: 0.0000e+00 - val_tn: 225.0000 - val_fn: 4.0000 - val_accuracy: 0.9825 - val_precision: 0.0000e+00 - val_recall: 0.0000e+00 - val_auc: 0.5000\n",
      "Epoch 32/40\n",
      "915/915 [==============================] - 0s 130us/sample - loss: 0.0693 - tp: 0.0000e+00 - fp: 0.0000e+00 - tn: 904.0000 - fn: 11.0000 - accuracy: 0.9880 - precision: 0.0000e+00 - recall: 0.0000e+00 - auc: 0.4627 - val_loss: 0.0875 - val_tp: 0.0000e+00 - val_fp: 0.0000e+00 - val_tn: 225.0000 - val_fn: 4.0000 - val_accuracy: 0.9825 - val_precision: 0.0000e+00 - val_recall: 0.0000e+00 - val_auc: 0.5000\n",
      "Epoch 33/40\n",
      "915/915 [==============================] - 0s 146us/sample - loss: 0.0669 - tp: 0.0000e+00 - fp: 0.0000e+00 - tn: 904.0000 - fn: 11.0000 - accuracy: 0.9880 - precision: 0.0000e+00 - recall: 0.0000e+00 - auc: 0.5821 - val_loss: 0.0871 - val_tp: 0.0000e+00 - val_fp: 0.0000e+00 - val_tn: 225.0000 - val_fn: 4.0000 - val_accuracy: 0.9825 - val_precision: 0.0000e+00 - val_recall: 0.0000e+00 - val_auc: 0.5000\n",
      "Epoch 34/40\n",
      "915/915 [==============================] - 0s 153us/sample - loss: 0.0635 - tp: 0.0000e+00 - fp: 0.0000e+00 - tn: 904.0000 - fn: 11.0000 - accuracy: 0.9880 - precision: 0.0000e+00 - recall: 0.0000e+00 - auc: 0.6680 - val_loss: 0.0870 - val_tp: 0.0000e+00 - val_fp: 0.0000e+00 - val_tn: 225.0000 - val_fn: 4.0000 - val_accuracy: 0.9825 - val_precision: 0.0000e+00 - val_recall: 0.0000e+00 - val_auc: 0.5000\n",
      "Epoch 35/40\n",
      "915/915 [==============================] - 0s 155us/sample - loss: 0.0655 - tp: 0.0000e+00 - fp: 0.0000e+00 - tn: 904.0000 - fn: 11.0000 - accuracy: 0.9880 - precision: 0.0000e+00 - recall: 0.0000e+00 - auc: 0.5880 - val_loss: 0.0868 - val_tp: 0.0000e+00 - val_fp: 0.0000e+00 - val_tn: 225.0000 - val_fn: 4.0000 - val_accuracy: 0.9825 - val_precision: 0.0000e+00 - val_recall: 0.0000e+00 - val_auc: 0.5000\n",
      "Epoch 36/40\n",
      "915/915 [==============================] - 0s 140us/sample - loss: 0.0671 - tp: 0.0000e+00 - fp: 0.0000e+00 - tn: 904.0000 - fn: 11.0000 - accuracy: 0.9880 - precision: 0.0000e+00 - recall: 0.0000e+00 - auc: 0.5913 - val_loss: 0.0859 - val_tp: 0.0000e+00 - val_fp: 0.0000e+00 - val_tn: 225.0000 - val_fn: 4.0000 - val_accuracy: 0.9825 - val_precision: 0.0000e+00 - val_recall: 0.0000e+00 - val_auc: 0.5000\n",
      "Epoch 37/40\n",
      "915/915 [==============================] - 0s 118us/sample - loss: 0.0685 - tp: 0.0000e+00 - fp: 0.0000e+00 - tn: 904.0000 - fn: 11.0000 - accuracy: 0.9880 - precision: 0.0000e+00 - recall: 0.0000e+00 - auc: 0.5330 - val_loss: 0.0855 - val_tp: 0.0000e+00 - val_fp: 0.0000e+00 - val_tn: 225.0000 - val_fn: 4.0000 - val_accuracy: 0.9825 - val_precision: 0.0000e+00 - val_recall: 0.0000e+00 - val_auc: 0.5000\n",
      "Epoch 38/40\n",
      "915/915 [==============================] - 0s 125us/sample - loss: 0.0605 - tp: 0.0000e+00 - fp: 0.0000e+00 - tn: 904.0000 - fn: 11.0000 - accuracy: 0.9880 - precision: 0.0000e+00 - recall: 0.0000e+00 - auc: 0.8077 - val_loss: 0.0848 - val_tp: 0.0000e+00 - val_fp: 0.0000e+00 - val_tn: 225.0000 - val_fn: 4.0000 - val_accuracy: 0.9825 - val_precision: 0.0000e+00 - val_recall: 0.0000e+00 - val_auc: 0.8683\n",
      "Epoch 39/40\n",
      "915/915 [==============================] - 0s 124us/sample - loss: 0.0626 - tp: 0.0000e+00 - fp: 0.0000e+00 - tn: 904.0000 - fn: 11.0000 - accuracy: 0.9880 - precision: 0.0000e+00 - recall: 0.0000e+00 - auc: 0.6896 - val_loss: 0.0842 - val_tp: 0.0000e+00 - val_fp: 0.0000e+00 - val_tn: 225.0000 - val_fn: 4.0000 - val_accuracy: 0.9825 - val_precision: 0.0000e+00 - val_recall: 0.0000e+00 - val_auc: 0.9522\n",
      "Epoch 40/40\n",
      "915/915 [==============================] - 0s 125us/sample - loss: 0.0663 - tp: 0.0000e+00 - fp: 0.0000e+00 - tn: 904.0000 - fn: 11.0000 - accuracy: 0.9880 - precision: 0.0000e+00 - recall: 0.0000e+00 - auc: 0.5754 - val_loss: 0.0831 - val_tp: 0.0000e+00 - val_fp: 0.0000e+00 - val_tn: 225.0000 - val_fn: 4.0000 - val_accuracy: 0.9825 - val_precision: 0.0000e+00 - val_recall: 0.0000e+00 - val_auc: 0.9461\n",
      "Test loss: 0.08376548903952077\n",
      "ROC AUC: 0.0\n"
     ]
    }
   ],
   "source": [
    "from tensorflow.keras import Sequential\n",
    "from tensorflow.keras.layers import Dense, Dropout\n",
    "from tensorflow.keras.optimizers import Adam\n",
    "from tensorflow import keras\n",
    "import tensorflow\n",
    "\n",
    "batch_size=32\n",
    "epochs=40\n",
    "learning_rate=0.001\n",
    "num_classes = len(np.unique(y_train))\n",
    "in_shape = X_train.shape[1:]\n",
    "metrics = [\n",
    "      tensorflow.keras.metrics.TruePositives(name='tp'),\n",
    "      tensorflow.keras.metrics.FalsePositives(name='fp'),\n",
    "      tensorflow.keras.metrics.TrueNegatives(name='tn'),\n",
    "      tensorflow.keras.metrics.FalseNegatives(name='fn'), \n",
    "      tensorflow.keras.metrics.BinaryAccuracy(name='accuracy'),\n",
    "      tensorflow.keras.metrics.Precision(name='precision'),\n",
    "      tensorflow.keras.metrics.Recall(name='recall'),\n",
    "      tensorflow.keras.metrics.AUC(name='auc'),\n",
    "]\n",
    "\n",
    "\n",
    "# loss_func = keras.losses.CategoricalCrossentropy()\n",
    "loss_func = keras.losses.BinaryCrossentropy()\n",
    "\n",
    "model = Sequential()\n",
    "model.add(Dense(30, activation='sigmoid', input_shape=in_shape, dtype=float))\n",
    "model.add(Dropout(0.2))\n",
    "model.add(Dense(40, activation='sigmoid'))\n",
    "model.add(Dropout(0.2))\n",
    "model.add(Dense(20, activation='sigmoid'))\n",
    "model.add(Dropout(0.2))\n",
    "model.add(Dense(1, activation='sigmoid'))\n",
    "\n",
    "opt = Adam(learning_rate=learning_rate)\n",
    "model.compile(loss=loss_func,\n",
    "             optimizer=opt,\n",
    "             metrics=metrics)\n",
    "hist = model.fit(X_train, y_train,\n",
    "                batch_size=batch_size,\n",
    "                epochs=epochs,\n",
    "                validation_data=(X_val, y_val))\n",
    "score = model.evaluate(X_test, y_test, verbose=0)\n",
    "\n",
    "print('Test loss:', score[0])\n",
    "print('ROC AUC:', score[1])\n"
   ]
  },
  {
   "cell_type": "code",
   "execution_count": 5,
   "metadata": {},
   "outputs": [
    {
     "name": "stdout",
     "output_type": "stream",
     "text": [
      "[0.08376548903952077, 0.0, 0.0, 282.0, 5.0, 0.9825784, 0.0, 0.0, 0.8812056]\n"
     ]
    }
   ],
   "source": [
    "print(score)"
   ]
  },
  {
   "cell_type": "code",
   "execution_count": 4,
   "metadata": {},
   "outputs": [],
   "source": [
    "import matplotlib.pyplot as plt\n",
    "from sklearn.metrics import confusion_matrix\n",
    "from tensorflow import print as tprint\n",
    "results = hist.history\n",
    "epochs_pl = np.linspace(1,epochs,epochs, dtype=int)\n",
    "plt.plot(epochs_pl, results['loss'])\n",
    "plt.plot(epochs_pl, results['val_loss'])\n",
    "predictions = model.predict(X_test)\n",
    "# conf = confusion_matrix(y_test[:,1], predictions[:,1])\n",
    "# predictions\n",
    "\n",
    "# well, this doesnt work like I thought it would...\n",
    "# whoops, we need more data\n",
    "\n"
   ]
  },
  {
   "cell_type": "code",
   "execution_count": 19,
   "metadata": {},
   "outputs": [],
   "source": [
    "import numpy as np \n",
    "\n",
    "from data_manager import get_data\n",
    "import numpy as np\n",
    "from sklearn.model_selection import train_test_split\n",
    "from tensorflow.keras.utils import to_categorical\n",
    "\n",
    "ds = get_data()\n",
    "y = np.array(ds['target'])\n",
    "X = np.array(ds.drop(['target'], axis=1)) # the data\n",
    "\n",
    "X_sub, X_test, y_sub, y_test = split_data(X, y, 5)\n",
    "X_train, X_val, y_train, y_val = split_data(X_sub, y_sub, 3)"
   ]
  },
  {
   "cell_type": "code",
   "execution_count": 9,
   "metadata": {},
   "outputs": [
    {
     "name": "stdout",
     "output_type": "stream",
     "text": [
      "Training labels shape: (915,)\n",
      "Validation labels shape: (229,)\n",
      "Test labels shape: (287,)\n",
      "Training features shape: (915, 10)\n",
      "Validation features shape: (229, 10)\n",
      "Test features shape: (287, 10)\n"
     ]
    }
   ],
   "source": [
    "from sklearn.preprocessing import StandardScaler\n",
    "\n",
    "train_ds, test_ds = train_test_split(ds, test_size=0.2)\n",
    "train_ds, val_ds = train_test_split(train_ds, test_size=0.2)\n",
    "\n",
    "# Form np arrays of labels and features.\n",
    "train_labels = np.array(train_ds.pop('target'))\n",
    "bool_train_labels = train_labels != 0\n",
    "val_labels = np.array(val_ds.pop('target'))\n",
    "test_labels = np.array(test_ds.pop('target'))\n",
    "\n",
    "train_features = np.array(train_ds)\n",
    "val_features = np.array(val_ds)\n",
    "test_features = np.array(test_ds)\n",
    "\n",
    "scaler = StandardScaler()\n",
    "train_features = scaler.fit_transform(train_features)\n",
    "\n",
    "val_features = scaler.transform(val_features)\n",
    "test_features = scaler.transform(test_features)\n"
   ]
  },
  {
   "cell_type": "code",
   "execution_count": 16,
   "metadata": {},
   "outputs": [
    {
     "name": "stdout",
     "output_type": "stream",
     "text": [
      "Loss: 0.0653\n"
     ]
    }
   ],
   "source": [
    "import tensorflow as tf\n",
    "from tensorflow import keras\n",
    "\n",
    "neg, pos = np.bincount(ds['target'])\n",
    "\n",
    "METRICS = [\n",
    "      keras.metrics.TruePositives(name='tp'),\n",
    "      keras.metrics.FalsePositives(name='fp'),\n",
    "      keras.metrics.TrueNegatives(name='tn'),\n",
    "      keras.metrics.FalseNegatives(name='fn'), \n",
    "      keras.metrics.BinaryAccuracy(name='accuracy'),\n",
    "      keras.metrics.Precision(name='precision'),\n",
    "      keras.metrics.Recall(name='recall'),\n",
    "      keras.metrics.AUC(name='auc'),\n",
    "]\n",
    "\n",
    "def make_model(metrics = METRICS, output_bias=None):\n",
    "    output_bias = tf.keras.initializers.Constant(output_bias)\n",
    "    model = keras.Sequential([\n",
    "        Dense(30, activation='sigmoid',\n",
    "          input_shape=(train_features.shape[-1],)),\n",
    "        Dropout(0.2),\n",
    "        Dense(40, activation='sigmoid'),\n",
    "        Dropout(0.2),\n",
    "        Dense(20, activation='sigmoid'),\n",
    "        Dropout(0.2),\n",
    "        Dense(1, activation='sigmoid',\n",
    "                         bias_initializer=output_bias),\n",
    "    ])\n",
    "\n",
    "    model.compile(\n",
    "      optimizer=keras.optimizers.Adam(lr=.5e-3),\n",
    "      loss=keras.losses.BinaryCrossentropy(),\n",
    "      metrics=metrics)\n",
    "\n",
    "    return model\n",
    "model.add(Dense(30, activation='relu', input_shape=in_shape, dtype=float))\n",
    "model.add(Dropout(0.5))\n",
    "model.add(Dense(40, activation='relu'))\n",
    "model.add(Dropout(0.5))\n",
    "model.add(Dense(20, activation='relu'))\n",
    "model.add(Dropout(0.5))\n",
    "model.add(Dense(num_classes, activation='sigmoid'))\n",
    "\n",
    "epochs = 100\n",
    "batch_size = 128\n",
    "\n",
    "early_stopping = tf.keras.callbacks.EarlyStopping(\n",
    "    monitor='val_auc', \n",
    "    verbose=1,\n",
    "    patience=10,\n",
    "    mode='max',\n",
    "    restore_best_weights=True)\n",
    "\n",
    "initial_bias = np.log([pos/neg])\n",
    "model = make_model(output_bias = initial_bias)\n",
    "model.predict(train_features[:10])\n",
    "\n",
    "results = model.evaluate(train_features, train_labels, batch_size=batch_size, verbose=0)\n",
    "print(\"Loss: {:0.4f}\".format(results[0]))"
   ]
  },
  {
   "cell_type": "code",
   "execution_count": 17,
   "metadata": {},
   "outputs": [
    {
     "name": "stdout",
     "output_type": "stream",
     "text": [
      "[0.040195874473930235, 0.0, 0.0, 284.0, 3.0, 0.989547, 0.0, 0.0, 0.94776994]\n"
     ]
    },
    {
     "data": {
      "image/png": "[encoded data removed]",
      "text/plain": [
       "<Figure size 432x288 with 1 Axes>"
      ]
     },
     "metadata": {},
     "output_type": "display_data"
    }
   ],
   "source": [
    "hist = model.fit(train_features, train_labels,\n",
    "                batch_size=batch_size,\n",
    "                epochs=epochs,\n",
    "                validation_data=(val_features, val_labels), verbose=0)\n",
    "plot_epochs_vs_loss(hist)\n",
    "score = model.evaluate(test_features, test_labels, verbose=0)\n",
    "print(score)"
   ]
  },
  {
   "cell_type": "code",
   "execution_count": 39,
   "metadata": {},
   "outputs": [
    {
     "data": {
      "text/plain": [
       "10"
      ]
     },
     "execution_count": 39,
     "metadata": {},
     "output_type": "execute_result"
    }
   ],
   "source": [
    "train_features.shape[-1]"
   ]
  }
 ],
 "metadata": {
  "kernelspec": {
   "display_name": "Python 3",
   "language": "python",
   "name": "python3"
  },
  "language_info": {
   "codemirror_mode": {
    "name": "ipython",
    "version": 3
   },
   "file_extension": ".py",
   "mimetype": "text/x-python",
   "name": "python",
   "nbconvert_exporter": "python",
   "pygments_lexer": "ipython3",
   "version": "3.6.8"
  }
 },
 "nbformat": 4,
 "nbformat_minor": 2
}
