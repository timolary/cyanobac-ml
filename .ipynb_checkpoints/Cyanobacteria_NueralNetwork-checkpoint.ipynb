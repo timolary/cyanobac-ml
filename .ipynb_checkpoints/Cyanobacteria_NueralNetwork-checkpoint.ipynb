{
 "cells": [
  {
   "cell_type": "code",
   "execution_count": 30,
   "metadata": {},
   "outputs": [],
   "source": [
    "from data_manager import get_data\n",
    "import numpy as np\n",
    "from sklearn.model_selection import train_test_split\n",
    "from tensorflow.keras.utils import to_categorical\n",
    "\n",
    "ds = get_data()\n",
    "y = np.array(ds['target'])\n",
    "X = np.array(ds.drop(['target'], axis=1)) # the data\n",
    "\n",
    "X_sub, X_test, y_sub, y_test = train_test_split(X,y, test_size=0.2)\n",
    "X_train, X_val, y_train, y_val = train_test_split(X_sub, y_sub, test_size=0.2)\n",
    "def make_one_hot(*y):\n",
    "    res = []\n",
    "    for y_i in y:\n",
    "        y_1hot = to_categorical(y_i)\n",
    "        res.append(y_1hot)\n",
    "    return res\n",
    "\n",
    "y_train, y_val, y_test = make_one_hot(y_train, y_val, y_test)"
   ]
  },
  {
   "cell_type": "markdown",
   "metadata": {},
   "source": [
    "## Lets just try to do a simple MLP to begin\n",
    "### 3 Layers, 10 20 5"
   ]
  },
  {
   "cell_type": "code",
   "execution_count": 10,
   "metadata": {},
   "outputs": [],
   "source": [
    "# 15 15 70 split\n",
    "\n",
    "\n",
    "\n",
    "        "
   ]
  },
  {
   "cell_type": "code",
   "execution_count": 32,
   "metadata": {},
   "outputs": [
    {
     "name": "stdout",
     "output_type": "stream",
     "text": [
      "Train on 915 samples, validate on 229 samples\n",
      "Epoch 1/40\n",
      "915/915 [==============================] - 0s 452us/sample - loss: 0.7007 - recall_6: 0.5814 - val_loss: 0.3031 - val_recall_6: 0.9913\n",
      "Epoch 2/40\n",
      "915/915 [==============================] - 0s 78us/sample - loss: 0.2444 - recall_6: 0.9694 - val_loss: 0.1335 - val_recall_6: 0.9913\n",
      "Epoch 3/40\n",
      "915/915 [==============================] - 0s 70us/sample - loss: 0.1543 - recall_6: 0.9836 - val_loss: 0.0897 - val_recall_6: 0.9913\n",
      "Epoch 4/40\n",
      "915/915 [==============================] - 0s 65us/sample - loss: 0.1185 - recall_6: 0.9836 - val_loss: 0.0732 - val_recall_6: 0.9913\n",
      "Epoch 5/40\n",
      "915/915 [==============================] - 0s 60us/sample - loss: 0.1078 - recall_6: 0.9836 - val_loss: 0.0651 - val_recall_6: 0.9913\n",
      "Epoch 6/40\n",
      "915/915 [==============================] - 0s 99us/sample - loss: 0.0963 - recall_6: 0.9836 - val_loss: 0.0604 - val_recall_6: 0.9913\n",
      "Epoch 7/40\n",
      "915/915 [==============================] - 0s 70us/sample - loss: 0.1050 - recall_6: 0.9836 - val_loss: 0.0573 - val_recall_6: 0.9913\n",
      "Epoch 8/40\n",
      "915/915 [==============================] - 0s 79us/sample - loss: 0.0981 - recall_6: 0.9836 - val_loss: 0.0554 - val_recall_6: 0.9913\n",
      "Epoch 9/40\n",
      "915/915 [==============================] - 0s 109us/sample - loss: 0.0940 - recall_6: 0.9836 - val_loss: 0.0538 - val_recall_6: 0.9913\n",
      "Epoch 10/40\n",
      "915/915 [==============================] - 0s 127us/sample - loss: 0.0967 - recall_6: 0.9836 - val_loss: 0.0526 - val_recall_6: 0.9913\n",
      "Epoch 11/40\n",
      "915/915 [==============================] - 0s 114us/sample - loss: 0.0853 - recall_6: 0.9836 - val_loss: 0.0517 - val_recall_6: 0.9913\n",
      "Epoch 12/40\n",
      "915/915 [==============================] - 0s 99us/sample - loss: 0.0889 - recall_6: 0.9836 - val_loss: 0.0511 - val_recall_6: 0.9913\n",
      "Epoch 13/40\n",
      "915/915 [==============================] - 0s 92us/sample - loss: 0.0927 - recall_6: 0.9836 - val_loss: 0.0506 - val_recall_6: 0.9913\n",
      "Epoch 14/40\n",
      "915/915 [==============================] - 0s 98us/sample - loss: 0.0873 - recall_6: 0.9836 - val_loss: 0.0500 - val_recall_6: 0.9913\n",
      "Epoch 15/40\n",
      "915/915 [==============================] - 0s 91us/sample - loss: 0.0858 - recall_6: 0.9836 - val_loss: 0.0497 - val_recall_6: 0.9913\n",
      "Epoch 16/40\n",
      "915/915 [==============================] - 0s 78us/sample - loss: 0.0829 - recall_6: 0.9836 - val_loss: 0.0494 - val_recall_6: 0.9913\n",
      "Epoch 17/40\n",
      "915/915 [==============================] - 0s 49us/sample - loss: 0.0874 - recall_6: 0.9836 - val_loss: 0.0492 - val_recall_6: 0.9913\n",
      "Epoch 18/40\n",
      "915/915 [==============================] - 0s 49us/sample - loss: 0.0835 - recall_6: 0.9836 - val_loss: 0.0488 - val_recall_6: 0.9913\n",
      "Epoch 19/40\n",
      "915/915 [==============================] - 0s 42us/sample - loss: 0.0861 - recall_6: 0.9836 - val_loss: 0.0486 - val_recall_6: 0.9913\n",
      "Epoch 20/40\n",
      "915/915 [==============================] - 0s 50us/sample - loss: 0.0834 - recall_6: 0.9836 - val_loss: 0.0477 - val_recall_6: 0.9913\n",
      "Epoch 21/40\n",
      "915/915 [==============================] - 0s 42us/sample - loss: 0.0793 - recall_6: 0.9836 - val_loss: 0.0468 - val_recall_6: 0.9913\n",
      "Epoch 22/40\n",
      "915/915 [==============================] - 0s 43us/sample - loss: 0.0825 - recall_6: 0.9836 - val_loss: 0.0462 - val_recall_6: 0.9913\n",
      "Epoch 23/40\n",
      "915/915 [==============================] - 0s 60us/sample - loss: 0.0798 - recall_6: 0.9836 - val_loss: 0.0453 - val_recall_6: 0.9913\n",
      "Epoch 24/40\n",
      "915/915 [==============================] - 0s 54us/sample - loss: 0.0749 - recall_6: 0.9836 - val_loss: 0.0446 - val_recall_6: 0.9913\n",
      "Epoch 25/40\n",
      "915/915 [==============================] - 0s 41us/sample - loss: 0.0753 - recall_6: 0.9836 - val_loss: 0.0437 - val_recall_6: 0.9913\n",
      "Epoch 26/40\n",
      "915/915 [==============================] - 0s 42us/sample - loss: 0.0759 - recall_6: 0.9836 - val_loss: 0.0427 - val_recall_6: 0.9913\n",
      "Epoch 27/40\n",
      "915/915 [==============================] - 0s 42us/sample - loss: 0.0742 - recall_6: 0.9836 - val_loss: 0.0422 - val_recall_6: 0.9913\n",
      "Epoch 28/40\n",
      "915/915 [==============================] - 0s 41us/sample - loss: 0.0731 - recall_6: 0.9836 - val_loss: 0.0414 - val_recall_6: 0.9913\n",
      "Epoch 29/40\n",
      "915/915 [==============================] - 0s 51us/sample - loss: 0.0719 - recall_6: 0.9836 - val_loss: 0.0407 - val_recall_6: 0.9913\n",
      "Epoch 30/40\n",
      "915/915 [==============================] - 0s 57us/sample - loss: 0.0639 - recall_6: 0.9836 - val_loss: 0.0398 - val_recall_6: 0.9913\n",
      "Epoch 31/40\n",
      "915/915 [==============================] - 0s 103us/sample - loss: 0.0617 - recall_6: 0.9836 - val_loss: 0.0393 - val_recall_6: 0.9913\n",
      "Epoch 32/40\n",
      "915/915 [==============================] - 0s 65us/sample - loss: 0.0683 - recall_6: 0.9836 - val_loss: 0.0386 - val_recall_6: 0.9913\n",
      "Epoch 33/40\n",
      "915/915 [==============================] - 0s 80us/sample - loss: 0.0666 - recall_6: 0.9836 - val_loss: 0.0378 - val_recall_6: 0.9913\n",
      "Epoch 34/40\n",
      "915/915 [==============================] - 0s 61us/sample - loss: 0.0571 - recall_6: 0.9836 - val_loss: 0.0381 - val_recall_6: 0.9913\n",
      "Epoch 35/40\n",
      "915/915 [==============================] - 0s 60us/sample - loss: 0.0677 - recall_6: 0.9825 - val_loss: 0.0377 - val_recall_6: 0.9913\n",
      "Epoch 36/40\n",
      "915/915 [==============================] - 0s 41us/sample - loss: 0.0612 - recall_6: 0.9836 - val_loss: 0.0373 - val_recall_6: 0.9913\n",
      "Epoch 37/40\n",
      "915/915 [==============================] - 0s 62us/sample - loss: 0.0565 - recall_6: 0.9814 - val_loss: 0.0375 - val_recall_6: 0.9913\n",
      "Epoch 38/40\n",
      "915/915 [==============================] - 0s 67us/sample - loss: 0.0623 - recall_6: 0.9836 - val_loss: 0.0369 - val_recall_6: 0.9913\n",
      "Epoch 39/40\n",
      "915/915 [==============================] - 0s 55us/sample - loss: 0.0602 - recall_6: 0.9836 - val_loss: 0.0370 - val_recall_6: 0.9913\n",
      "Epoch 40/40\n",
      "915/915 [==============================] - 0s 42us/sample - loss: 0.0548 - recall_6: 0.9825 - val_loss: 0.0356 - val_recall_6: 0.9913\n",
      "Test loss: 0.034159808896663715\n",
      "ROC AUC: 0.989547\n"
     ]
    }
   ],
   "source": [
    "from tensorflow.keras import Sequential\n",
    "from tensorflow.keras.layers import Dense, Dropout\n",
    "from tensorflow.keras.optimizers import Adam\n",
    "\n",
    "batch_size=32\n",
    "epochs=40\n",
    "learning_rate=0.001\n",
    "num_classes = len(y_train[0])\n",
    "in_shape = X_train.shape[1:]\n",
    "\n",
    "model = Sequential()\n",
    "model.add(Dense(30, activation='sigmoid', input_shape=in_shape, dtype=float))\n",
    "model.add(Dropout(0.2))\n",
    "model.add(Dense(40, activation='sigmoid'))\n",
    "model.add(Dropout(0.2))\n",
    "model.add(Dense(20, activation='sigmoid'))\n",
    "model.add(Dropout(0.2))\n",
    "model.add(Dense(num_classes, activation='softmax'))\n",
    "\n",
    "opt = Adam(learning_rate=learning_rate)\n",
    "model.compile(loss='categorical_crossentropy',\n",
    "             optimizer=opt,\n",
    "             metrics=['Recall'])\n",
    "hist = model.fit(X_train, y_train,\n",
    "                batch_size=batch_size,\n",
    "                epochs=epochs,\n",
    "                validation_data=(X_val, y_val))\n",
    "score = model.evaluate(X_test, y_test, verbose=0)\n",
    "print('Test loss:', score[0])\n",
    "print('ROC AUC:', score[1])"
   ]
  },
  {
   "cell_type": "code",
   "execution_count": 34,
   "metadata": {},
   "outputs": [
    {
     "data": {
      "text/plain": [
       "[<matplotlib.lines.Line2D at 0x7f16c3da2b70>]"
      ]
     },
     "execution_count": 34,
     "metadata": {},
     "output_type": "execute_result"
    },
    {
     "data": {
      "image/png": "[encoded data removed]",
      "text/plain": [
       "<Figure size 432x288 with 1 Axes>"
      ]
     },
     "metadata": {},
     "output_type": "display_data"
    }
   ],
   "source": [
    "import matplotlib.pyplot as plt\n",
    "\n",
    "results = hist.history\n",
    "epochs_pl = np.linspace(1,epochs,epochs, dtype=int)\n",
    "plt.plot(epochs_pl, results['loss'])\n",
    "plt.plot(epochs_pl, results['val_loss'])"
   ]
  }
 ],
 "metadata": {
  "kernelspec": {
   "display_name": "Python 3",
   "language": "python",
   "name": "python3"
  },
  "language_info": {
   "codemirror_mode": {
    "name": "ipython",
    "version": 3
   },
   "file_extension": ".py",
   "mimetype": "text/x-python",
   "name": "python",
   "nbconvert_exporter": "python",
   "pygments_lexer": "ipython3",
   "version": "3.6.8"
  }
 },
 "nbformat": 4,
 "nbformat_minor": 2
}
