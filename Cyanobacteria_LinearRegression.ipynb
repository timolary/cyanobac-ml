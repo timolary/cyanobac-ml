{
 "cells": [
  {
   "cell_type": "code",
   "execution_count": 1,
   "metadata": {},
   "outputs": [],
   "source": [
    "#Imports\n",
    "import os\n",
    "import numpy as np\n",
    "import pandas as pd\n",
    "import matplotlib.pyplot as plt\n",
    "%matplotlib inline\n",
    "import sklearn\n"
   ]
  },
  {
   "cell_type": "code",
   "execution_count": 2,
   "metadata": {},
   "outputs": [
    {
     "name": "stdout",
     "output_type": "stream",
     "text": [
      "(1298, 15)\n",
      "<class 'pandas.core.frame.DataFrame'>\n"
     ]
    }
   ],
   "source": [
    "#Load data\n",
    "path = os.getcwd() + '/data/AllSites.csv'\n",
    "ds1 = pd.read_csv(path)\n",
    "\n",
    "#Remove rows with missing cyanobacteria values\n",
    "#ds1 = ds1.dropna(axis=0, subset = ['NP_Cya_bio'])\n",
    "\n",
    "#Remove rows with any missing value for now. Later we can fill them in with monthly averages.\n",
    "ds1 = ds1.dropna(axis=0, how='any')\n",
    "\n",
    "#Add target column\n",
    "ds1['target'] = [1 if x >= 4e8 else 0 for x in ds1['NP_Cya_bio']]\n",
    "\n",
    "print(ds1.shape)\n",
    "print(type(ds1))\n",
    "\n",
    "#print(ds1[ds1['target'] == 1])\n",
    "#print(ds1[ds1['NP_Cya_bio'] >=1e9])"
   ]
  },
  {
   "cell_type": "code",
   "execution_count": null,
   "metadata": {},
   "outputs": [],
   "source": []
  }
 ],
 "metadata": {
  "kernelspec": {
   "display_name": "Python 3",
   "language": "python",
   "name": "python3"
  },
  "language_info": {
   "codemirror_mode": {
    "name": "ipython",
    "version": 3
   },
   "file_extension": ".py",
   "mimetype": "text/x-python",
   "name": "python",
   "nbconvert_exporter": "python",
   "pygments_lexer": "ipython3",
   "version": "3.7.4"
  }
 },
 "nbformat": 4,
 "nbformat_minor": 2
}
