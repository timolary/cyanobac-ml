{
 "cells": [
  {
   "cell_type": "markdown",
   "metadata": {},
   "source": [
    "### Modeling Cyanobacteria Blooms in Lake Champlain"
   ]
  },
  {
   "cell_type": "markdown",
   "metadata": {},
   "source": [
    "To do:\n",
    "- import data\n",
    "- code bloom/no bloom\n",
    "- code stratified/unstratified\n",
    "\n",
    "Try each of the following:\n",
    "- linear regression\n",
    "- logistic regression\n",
    "- SVM with various kernels\n",
    "- random forest\n",
    "\n",
    "Also explore feature importance\n",
    "- look at the data with PCA?\n",
    "- use a feature importance function from sci kit learn to look at that...?"
   ]
  },
  {
   "cell_type": "code",
   "execution_count": 1,
   "metadata": {},
   "outputs": [],
   "source": [
    "import os\n",
    "import numpy as np\n",
    "import pandas as pd\n",
    "import matplotlib.pyplot as plt"
   ]
  },
  {
   "cell_type": "code",
   "execution_count": 3,
   "metadata": {},
   "outputs": [
    {
     "name": "stdout",
     "output_type": "stream",
     "text": [
      "     StationID         Station      Date  Time Stratum Depth    TP    DP  \\\n",
      "0           40  St. Albans Bay   4/27/06  1300       U   4.4  25.2  11.4   \n",
      "1           40  St. Albans Bay   5/10/06  1255       U     6  20.9   9.4   \n",
      "2           40  St. Albans Bay    6/2/06  1355       U   5.8  28.7  19.2   \n",
      "3           40  St. Albans Bay    6/6/06  1210       U     6  21.9  15.3   \n",
      "4           40  St. Albans Bay   6/15/06  1125       U     6  21.4  15.5   \n",
      "..         ...             ...       ...   ...     ...   ...   ...   ...   \n",
      "179         40  St. Albans Bay   9/15/15  1212       U   2.4  47.9  12.9   \n",
      "180         40  St. Albans Bay   9/23/15  1200       U   3.2  33.8   9.1   \n",
      "181         40  St. Albans Bay   10/6/15  1101       U   5.6  26.4  10.9   \n",
      "182         40  St. Albans Bay   10/7/15  1205       U     5  41.3  12.5   \n",
      "183         40  St. Albans Bay  10/15/15  1003       U   3.4  29.5  10.6   \n",
      "\n",
      "       Cl    TN  TempC  DO   Chla Secchi   NP_Cya_bio  \n",
      "0    11.9  0.34    8.6 NaN   8.66    2.2          0.0  \n",
      "1    10.8   0.3   14.7 NaN   4.04    3.6     775000.0  \n",
      "2    11.2  0.49   19.9 NaN   1.06    2.9    1370000.0  \n",
      "3    10.3  0.38    NaN NaN   1.36    6.1          NaN  \n",
      "4    10.1  0.39   17.7 NaN   2.43    4.2    1600000.0  \n",
      "..    ...   ...    ...  ..    ...    ...          ...  \n",
      "179    11  0.48   22.8 NaN  26.96    1.2  289000000.0  \n",
      "180  10.7   0.4   21.0 NaN   10.5    1.6          NaN  \n",
      "181  10.3  0.34   16.8 NaN  16.11    2.8   17300000.0  \n",
      "182  10.2  0.36   16.7 NaN  16.14    2.5          NaN  \n",
      "183  11.4  0.35   13.8 NaN  11.48    1.7  117000000.0  \n",
      "\n",
      "[184 rows x 15 columns]\n"
     ]
    }
   ],
   "source": [
    "#load data\n",
    "path = os.getcwd() + '/data/StAlbans_wide.csv'\n",
    "data = pd.read_csv(path)\n",
    "print(data)"
   ]
  },
  {
   "cell_type": "code",
   "execution_count": null,
   "metadata": {},
   "outputs": [],
   "source": []
  }
 ],
 "metadata": {
  "kernelspec": {
   "display_name": "Python 3",
   "language": "python",
   "name": "python3"
  },
  "language_info": {
   "codemirror_mode": {
    "name": "ipython",
    "version": 3
   },
   "file_extension": ".py",
   "mimetype": "text/x-python",
   "name": "python",
   "nbconvert_exporter": "python",
   "pygments_lexer": "ipython3",
   "version": "3.7.4"
  }
 },
 "nbformat": 4,
 "nbformat_minor": 2
}
