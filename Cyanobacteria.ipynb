{
 "cells": [
  {
   "cell_type": "markdown",
   "metadata": {},
   "source": [
    "### Modeling Cyanobacteria Blooms in Lake Champlain"
   ]
  },
  {
   "cell_type": "markdown",
   "metadata": {},
   "source": [
    "To do:\n",
    "- get cleaned up data with:\n",
    "    - rows with missing cyanobac removed\n",
    "    - missing values removed\n",
    "    - month and N:P and target columns added\n",
    "    - target +1timestep added\n",
    "- look at histogram/distribution of cyanobac values\n",
    "\n",
    "Try each of the following:\n",
    "- linear regression - MC\n",
    "- logistic regression - TL\n",
    "- SVM with various kernels -TL\n",
    "- random forest - MC\n",
    "\n",
    "Also explore feature importance\n",
    "- look at the data with PCA?\n",
    "- use a feature importance function from sci kit learn to look at that...?"
   ]
  },
  {
   "cell_type": "code",
   "execution_count": 74,
   "metadata": {},
   "outputs": [],
   "source": [
    "import os\n",
    "import numpy as np\n",
    "import pandas as pd\n",
    "import matplotlib.pyplot as plt\n",
    "%matplotlib inline\n",
    "import sklearn"
   ]
  },
  {
   "cell_type": "code",
   "execution_count": 75,
   "metadata": {},
   "outputs": [
    {
     "data": {
      "text/plain": [
       "<matplotlib.collections.LineCollection at 0xa1eadad90>"
      ]
     },
     "execution_count": 75,
     "metadata": {},
     "output_type": "execute_result"
    },
    {
     "data": {
      "image/png": "[encoded data removed]",
      "text/plain": [
       "<Figure size 432x288 with 1 Axes>"
      ]
     },
     "metadata": {
      "needs_background": "light"
     },
     "output_type": "display_data"
    }
   ],
   "source": [
    "#load data\n",
    "path = os.getcwd() + '/data/AllSites.csv'\n",
    "\n",
    "ds1 = pd.read_csv(path)\n",
    "\n",
    "data['target'] = [1 if x >= 4e8 else 0 for x in data['NP_Cya_bio']]\n",
    "\n",
    "\n",
    "#print(data[data['target'] == 1])\n",
    "\n",
    "plt.hist(ds1['NP_Cya_bio'], bins = 10)\n",
    "plt.xscale('log')\n",
    "plt.yscale('log')\n",
    "plt.vlines(4e8, 0, 1e3)"
   ]
  },
  {
   "cell_type": "markdown",
   "metadata": {},
   "source": [
    "#### Using regex capture groups to clean 'H's and 'J's out of data"
   ]
  },
  {
   "cell_type": "code",
   "execution_count": 76,
   "metadata": {},
   "outputs": [
    {
     "name": "stdout",
     "output_type": "stream",
     "text": [
      "        TP    DP    Cl    TN  TempC   Chla  Secchi   NP_Cya_bio  Month  \\\n",
      "0     39.2  16.2  13.0  0.61    NaN   1.41     0.5          0.0      4   \n",
      "1     36.8  14.8  17.5  0.45   13.7   9.67     1.1          0.0      5   \n",
      "2     50.1  27.4  12.1  0.55   14.5   2.04     0.7          0.0      5   \n",
      "3     62.6  33.6  11.9  0.60    NaN   2.54     0.8          NaN      6   \n",
      "4     59.6  32.6  12.0  0.65   17.7   4.13     0.6          0.0      6   \n",
      "...    ...   ...   ...   ...    ...    ...     ...          ...    ...   \n",
      "3632  94.2  40.7   8.7  0.90   22.3  50.16     1.0  443000000.0      9   \n",
      "3633  90.8  33.8   8.7  0.72   22.2  29.84     1.0          NaN      9   \n",
      "3634  68.8  42.6   9.6  0.74   13.4  10.22     1.4    9460000.0     10   \n",
      "3635  70.7  44.0   9.7  0.72   13.2   7.12     1.6          NaN     10   \n",
      "3636  79.4  49.7   9.2  0.76    9.2  11.81     1.3    6510000.0     10   \n",
      "\n",
      "            N:P  Target  \n",
      "0     34.410892       0  \n",
      "1     27.040633       0  \n",
      "2     24.276000       0  \n",
      "3     21.194788       0  \n",
      "4     24.116777       0  \n",
      "...         ...     ...  \n",
      "3632  21.127289       1  \n",
      "3633  17.534719       0  \n",
      "3634  23.784578       0  \n",
      "3635  22.519837       0  \n",
      "3636  21.166315       0  \n",
      "\n",
      "[3637 rows x 11 columns]\n"
     ]
    }
   ],
   "source": [
    "print_data = False\n",
    "show_positive_cases = False\n",
    "ds2 = ds1.drop(['StationID', 'Station', 'Date', 'Time', 'Stratum', 'Depth'], axis=1)\n",
    "# ds2\n",
    "#ds2['Depth'] = ds1['Depth'].astype(str).str.extract('([-+]?\\d*\\.\\d+|\\d+)').astype(float)\n",
    "ds2['Month'] = ds1['Date'].astype(str).str.extract('(\\d\\d)').astype(int) # This is just the month number\n",
    "ds2['TP'] = ds1['TP'].astype(str).str.extract('([-+]?\\d*\\.\\d+|\\d+)').astype(float)\n",
    "ds2['DP'] = ds1['DP'].astype(str).str.extract('([-+]?\\d*\\.\\d+|\\d+)').astype(float)\n",
    "ds2['Cl'] = ds1['Cl'].astype(str).str.extract('([-+]?\\d*\\.\\d+|\\d+)').astype(float)\n",
    "ds2['TN'] = ds1['TN'].astype(str).str.extract('([-+]?\\d*\\.\\d+|\\d+)').astype(float)\n",
    "ds2['TempC'] = ds1['TempC'].astype(str).str.extract('([-+]?\\d*\\.\\d+|\\d+)').astype(float)\n",
    "ds2['Chla'] = ds1['Chla'].astype(str).str.extract('([-+]?\\d*\\.\\d+|\\d+)').astype(float)\n",
    "#ds2['Chla'] = ds1['Chla'].astype(str).str.extract('([-+]?\\d*\\.\\d+|\\d+)').astype(float)\n",
    "ds2['Secchi'] = ds1['Secchi'].astype(str).str.extract('([-+]?\\d*\\.\\d+|\\d+)').astype(float)\n",
    "ds2['N:P'] = ((ds2['TN']*1e-3)/14.007)/((ds2['TP']*1e-6)/30.974) #for TN in ds2['TN'] for TP in ds2['TP']]\n",
    "ds2['Target'] = [1 if x >= 4e8 else 0 for x in data['NP_Cya_bio']]\n",
    "\n",
    "#ds2 = ds2.drop(['NP_Cya_bio'], axis=1)\n",
    "#y = np.array(ds2['target'])\n",
    "#X = np.array(ds2.drop(['target'], axis=1))\n",
    "\n",
    "#if show_positive_cases:\n",
    "#    ds1.iloc[t]\n",
    "#if print_data:\n",
    "#    with pd.option_context('display.max_rows', None, 'display.max_columns', None):  # more options can be specified also\n",
    "#        print(ds2)\n",
    "#with pd.option_context('display.max_rows', 20, 'display.max_columns', 20): \n",
    "#    print(ds2)\n",
    "print((ds2))"
   ]
  },
  {
   "cell_type": "code",
   "execution_count": null,
   "metadata": {},
   "outputs": [],
   "source": [
    "data['Month'] = [int(x[0:2]) for x in data['Date']]\n",
    "#data['moles N'] = [(TN*0.001)/14.007 for TN in data['TN']]\n",
    "#data['N:P'] = [((TN*1e-3)/14.007)/((TP*1e-6)/30.974) for TN in data['TN'] for TP in data['TP']]\n",
    "\n",
    "data['Label'] = ['Bloom' if x >= 4e8 else 'noBloom' for x in data['NP_Cya_bio']]\n",
    "\n",
    "\n",
    "print(data[data['Label'] == 'Bloom'])"
   ]
  }
 ],
 "metadata": {
  "kernelspec": {
   "display_name": "Python 3",
   "language": "python",
   "name": "python3"
  },
  "language_info": {
   "codemirror_mode": {
    "name": "ipython",
    "version": 3
   },
   "file_extension": ".py",
   "mimetype": "text/x-python",
   "name": "python",
   "nbconvert_exporter": "python",
   "pygments_lexer": "ipython3",
   "version": "3.7.4"
  }
 },
 "nbformat": 4,
 "nbformat_minor": 2
}
