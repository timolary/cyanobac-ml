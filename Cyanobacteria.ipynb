{
 "cells": [
  {
   "cell_type": "markdown",
   "metadata": {},
   "source": [
    "### Modeling Cyanobacteria Blooms in Lake Champlain"
   ]
  },
  {
   "cell_type": "markdown",
   "metadata": {},
   "source": [
    "To do:\n",
    "Data cleaning and exploration:\n",
    "- get data with:\n",
    "    - rows with missing cyanobac removed\n",
    "    - missing values removed or replaced with monthly averages\n",
    "    - month and N:P and target columns added\n",
    "    - target +1timestep added\n",
    "- look at histogram/distribution of cyanobac values\n",
    "\n",
    "Try each of the following:\n",
    "- linear regression - MC\n",
    "- logistic regression - TL\n",
    "- SVM with various kernels -TL\n",
    "- random forest - MC\n",
    "\n",
    "Also look at:\n",
    "- look at the data with PCA?\n",
    "- use a feature importance function from sci kit learn to look at that...?"
   ]
  },
  {
   "cell_type": "code",
   "execution_count": 29,
   "metadata": {},
   "outputs": [],
   "source": [
    "#Imports\n",
    "import os\n",
    "import numpy as np\n",
    "import pandas as pd\n",
    "import matplotlib.pyplot as plt\n",
    "%matplotlib inline\n",
    "import sklearn"
   ]
  },
  {
   "cell_type": "code",
   "execution_count": 30,
   "metadata": {},
   "outputs": [
    {
     "name": "stdout",
     "output_type": "stream",
     "text": [
      "(1431, 15)\n",
      "<class 'pandas.core.frame.DataFrame'>\n",
      "      StationID                 Station      Date    Time Stratum Depth  \\\n",
      "936           9     Otter Creek Segment  08/18/11  1235.0       E   4.6   \n",
      "940           9     Otter Creek Segment  09/02/11  1140.0       E     3   \n",
      "3037         40          St. Albans Bay  08/06/14  1210.0       U   2.2   \n",
      "3038         40          St. Albans Bay  08/19/14  1010.0       U   2.6   \n",
      "3269         50          Missisquoi Bay  09/22/06  1100.0       U   2.2   \n",
      "3271         50          Missisquoi Bay  10/06/06  1100.0       U   2.6   \n",
      "3307         50          Missisquoi Bay  08/20/08  1050.0       U     2   \n",
      "3400         50          Missisquoi Bay  07/30/13  1020.0       U     3   \n",
      "3461         51  Missisquoi Bay Central  09/07/06  1055.0       U   2.4   \n",
      "3464         51  Missisquoi Bay Central  09/22/06  1040.0       U     2   \n",
      "3499         51  Missisquoi Bay Central  08/06/08  1115.0       U     2   \n",
      "3556         51  Missisquoi Bay Central  08/12/11  1105.0       U     3   \n",
      "3574         51  Missisquoi Bay Central  08/06/12  1050.0       U   1.8   \n",
      "3575         51  Missisquoi Bay Central  08/21/12  1245.0       U     1   \n",
      "3590         51  Missisquoi Bay Central  07/30/13  1100.0       U   1.8   \n",
      "3596         51  Missisquoi Bay Central  10/09/13  1250.0       U     1   \n",
      "3610         51  Missisquoi Bay Central  08/20/14  1100.0       U   1.8   \n",
      "3624         51  Missisquoi Bay Central  07/20/15  1132.0       U   2.4   \n",
      "3627         51  Missisquoi Bay Central  08/06/15  1103.0       U   2.2   \n",
      "3632         51  Missisquoi Bay Central  09/17/15  1100.0       U     2   \n",
      "\n",
      "         TP    DP     Cl     TN  TempC    Chla Secchi    NP_Cya_bio  target  \n",
      "936    15.7   9.3   12.6  H0.35   22.1    10.4    2.3  4.260000e+08       1  \n",
      "940    17.9   NaN  H12.3    NaN   20.2   H10.3    1.5  5.250000e+08       1  \n",
      "3037     37  12.1   10.6   0.74   24.7    28.2    1.1  7.110000e+08       1  \n",
      "3038   41.7  13.5   10.9   0.61   20.5   25.38    1.3  7.280000e+08       1  \n",
      "3269   75.5  23.2    6.7   0.64   17.3      36    1.1  4.230000e+08       1  \n",
      "3271   69.4  33.6    7.3   0.63   13.0    12.6    1.3  7.050000e+08       1  \n",
      "3307   66.4  16.6    5.9   0.74   21.3    44.9      1  1.260000e+09       1  \n",
      "3400   40.2    16    7.7    0.8   23.8   45.03    1.5  1.170000e+09       1  \n",
      "3461   62.9    18    6.3   0.77   19.3    3.73    1.2  4.380000e+08       1  \n",
      "3464   73.7  19.5    6.6    0.8   17.3    42.4    0.8  1.540000e+09       1  \n",
      "3499   74.1  29.7    7.1   0.81   23.2    45.5    1.1  1.190000e+09       1  \n",
      "3556   61.4    20      6  H0.55   23.5   J31.8    1.5  5.190000e+08       1  \n",
      "3574    109  46.8    7.5   0.61   25.5  H33.27    0.9  4.150000e+08       1  \n",
      "3575  H88.7  20.1    7.8  H0.87   23.1  H113.1    0.5  1.670000e+09       1  \n",
      "3590   63.4  21.1    7.7   0.88    NaN   74.24    0.9  2.670000e+09       1  \n",
      "3596   52.8  29.7    8.3   0.44   15.6     NaN    1.5  6.340000e+08       1  \n",
      "3610   96.1  29.5    8.5   1.04   20.6   34.73    0.9  7.340000e+08       1  \n",
      "3624   48.7  22.7    8.1   0.83   24.1   21.63    1.2  4.880000e+08       1  \n",
      "3627   67.4  25.8    7.7   0.71   23.4   42.08    1.1  4.720000e+08       1  \n",
      "3632   94.2  40.7    8.7    0.9   22.3   50.16      1  4.430000e+08       1  \n"
     ]
    }
   ],
   "source": [
    "#Load data\n",
    "path = os.getcwd() + '/data/AllSites.csv'\n",
    "ds1 = pd.read_csv(path)\n",
    "\n",
    "#Remove rows with missing cyanobacteria values\n",
    "ds1 = ds1.dropna(axis=0, subset = ['NP_Cya_bio'])\n",
    "\n",
    "#Remove rows with any missing value.\n",
    "#ds1 = ds1.dropna(axis=0, how='any')\n",
    "\n",
    "#Add target column\n",
    "ds1['target'] = [1 if x >= 4e8 else 0 for x in ds1['NP_Cya_bio']]\n",
    "\n",
    "print(ds1.shape)\n",
    "print(type(ds1))\n",
    "print(ds1[ds1['target'] == 1])\n"
   ]
  },
  {
   "cell_type": "code",
   "execution_count": 27,
   "metadata": {},
   "outputs": [
    {
     "data": {
      "text/plain": [
       "Text(0, 0.5, 'Frequency')"
      ]
     },
     "execution_count": 27,
     "metadata": {},
     "output_type": "execute_result"
    },
    {
     "data": {
      "image/png": "[encoded data removed]",
      "text/plain": [
       "<Figure size 432x288 with 1 Axes>"
      ]
     },
     "metadata": {
      "needs_background": "light"
     },
     "output_type": "display_data"
    }
   ],
   "source": [
    "#Make a histogram to look at distribution of cyanobacteria biovolumes\n",
    "plt.hist(ds1['NP_Cya_bio'], bins = 10)\n",
    "plt.xscale('log')\n",
    "plt.yscale('log')\n",
    "plt.vlines(4e8, 0, 1e3)\n",
    "plt.xlabel('Cyanobacteria biovolume ($\\mu m^3/L$)')\n",
    "plt.ylabel('Frequency')"
   ]
  },
  {
   "cell_type": "code",
   "execution_count": 40,
   "metadata": {},
   "outputs": [
    {
     "name": "stdout",
     "output_type": "stream",
     "text": [
      "<class 'numpy.ndarray'>\n",
      "<class 'numpy.ndarray'>\n"
     ]
    }
   ],
   "source": [
    "#Create cleaned dataframe, ds2:\n",
    "ds2 = ds1.drop(['StationID', 'Station', 'Date', 'Time', 'Stratum', 'Depth'], axis=1)\n",
    "\n",
    "#Use regex to remove 'H's and 'J's\n",
    "ds2['Month'] = ds1['Date'].astype(str).str.extract('(\\d\\d)').astype(int) # This is just the month number\n",
    "ds2['TP'] = ds1['TP'].astype(str).str.extract('([-+]?\\d*\\.\\d+|\\d+)').astype(float)\n",
    "ds2['DP'] = ds1['DP'].astype(str).str.extract('([-+]?\\d*\\.\\d+|\\d+)').astype(float)\n",
    "ds2['Cl'] = ds1['Cl'].astype(str).str.extract('([-+]?\\d*\\.\\d+|\\d+)').astype(float)\n",
    "ds2['TN'] = ds1['TN'].astype(str).str.extract('([-+]?\\d*\\.\\d+|\\d+)').astype(float)\n",
    "ds2['TempC'] = ds1['TempC'].astype(str).str.extract('([-+]?\\d*\\.\\d+|\\d+)').astype(float)\n",
    "ds2['Chla'] = ds1['Chla'].astype(str).str.extract('([-+]?\\d*\\.\\d+|\\d+)').astype(float)\n",
    "ds2['Secchi'] = ds1['Secchi'].astype(str).str.extract('([-+]?\\d*\\.\\d+|\\d+)').astype(float)\n",
    "ds2['N:P'] = ((ds2['TN']*1e-3)/14.007)/((ds2['TP']*1e-6)/30.974) #for TN in ds2['TN'] for TP in ds2['TP']]\n",
    "\n",
    "#Drop cyanobac biovolumes\n",
    "ds2 = ds2.drop(['NP_Cya_bio'], axis=1)\n",
    "\n",
    "#Assign X and y\n",
    "X = np.array(ds2.drop(['target'], axis=1))\n",
    "y = np.array(ds2['target'])\n",
    "\n",
    "#print((ds2))\n",
    "print(type(X))\n",
    "print(type(y))"
   ]
  },
  {
   "cell_type": "code",
   "execution_count": null,
   "metadata": {},
   "outputs": [],
   "source": []
  }
 ],
 "metadata": {
  "kernelspec": {
   "display_name": "Python 3",
   "language": "python",
   "name": "python3"
  },
  "language_info": {
   "codemirror_mode": {
    "name": "ipython",
    "version": 3
   },
   "file_extension": ".py",
   "mimetype": "text/x-python",
   "name": "python",
   "nbconvert_exporter": "python",
   "pygments_lexer": "ipython3",
   "version": "3.7.4"
  }
 },
 "nbformat": 4,
 "nbformat_minor": 2
}
